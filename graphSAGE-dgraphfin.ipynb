{
 "cells": [
  {
   "cell_type": "markdown",
   "id": "fe5dcbce-faf1-4df9-8310-2f6562301ac0",
   "metadata": {},
   "source": [
    "### Setup GraphSAGE for DGraphFin"
   ]
  },
  {
   "cell_type": "code",
   "execution_count": null,
   "id": "e7ead2e5-910f-41af-af1e-98033d836a8d",
   "metadata": {},
   "outputs": [],
   "source": [
    "python gnn.py --model sage --dataset DGraphFin --epochs 200 --runs 10 --device 0"
   ]
  },
  {
   "cell_type": "code",
   "execution_count": 1,
   "id": "6f966f95-d445-4a68-8065-295d0907f279",
   "metadata": {},
   "outputs": [],
   "source": [
    "import pandas as pd\n",
    "import numpy as np\n",
    "import gc\n",
    "import torch\n",
    "import torch.nn.functional as F\n",
    "from torch_geometric.nn import SAGEConv\n",
    "from torch_geometric.data import Data\n",
    "from torch_geometric.loader import NeighborLoader\n",
    "from torch.optim import Adam\n",
    "import networkx as nx"
   ]
  },
  {
   "cell_type": "code",
   "execution_count": null,
   "id": "f76769c1-ef29-447f-acb3-35d0a0376373",
   "metadata": {},
   "outputs": [],
   "source": [
    "# #load data\n",
    "# data = np.load('/Users/kostas/Documents/Data Science/p3/scientific/datasets/DGraphFin/dgraphfin.npz')\n",
    "\n",
    "# x = torch.tensor(data['features'], dtype = torch.float)\n",
    "# y = torch.float(data['labels'], dtype=torch.long)\n",
    "# edge_idx =  torch.tensor(data['edges'].T, dtype=torch.long)\n",
    "\n",
    "# data = Data(x=x, edge_idx=edge_idx, y=y)\n",
    "import torch_geometric\n",
    "\n",
    "# check your torch_geometric version and make sure it is not lower than 2.2.0\n",
    "print(torch_geometric.__version__)\n",
    "\n",
    "\n",
    "# Please download DGraphFin dataset file 'DGraphFin.zip' on our website 'https://dgraph.xinye.com' and place it under directory './dataset/raw'\n",
    "# Otherwise an error would pop out \"Dataset not found. Please download 'DGraphFin.zip' from 'https://dgraph.xinye.com' and move it to './raw' \"\n",
    "from torch_geometric.datasets import DGraphFin\n",
    "\n",
    "dataset = DGraphFin(root='/Users/kostas/Documents/Data Science/p3/scientific/datasets')\n",
    "data = dataset[0]"
   ]
  },
  {
   "cell_type": "code",
   "execution_count": null,
   "id": "e4af7fdd-23bd-451a-9add-3f1a8ff3d4b2",
   "metadata": {},
   "outputs": [],
   "source": [
    "train_loader = NeighborLoader(graph_data, num_neighbors=[10,5],batch_size=8,shuffle=True,num_workers=0,pin_memory=False)"
   ]
  },
  {
   "cell_type": "code",
   "execution_count": null,
   "id": "82ff78b6-711e-4815-a17a-1ab977db169b",
   "metadata": {},
   "outputs": [],
   "source": [
    "#evaluation\n",
    "from sklearn.metrics import f1_score\n",
    "model.eval()\n",
    "out = model(data.x, data.edge_index)\n",
    "pred = out.argmax(dim=1)\n",
    "\n",
    "f1 = f1_score(data.y.cpu().numpy(), pred.cpu().numpy(), average =\"macro\")\n",
    "print(f\"f1 score:{f1:.4f}\")"
   ]
  }
 ],
 "metadata": {
  "kernelspec": {
   "display_name": "Python 3 (ipykernel)",
   "language": "python",
   "name": "python3"
  },
  "language_info": {
   "codemirror_mode": {
    "name": "ipython",
    "version": 3
   },
   "file_extension": ".py",
   "mimetype": "text/x-python",
   "name": "python",
   "nbconvert_exporter": "python",
   "pygments_lexer": "ipython3",
   "version": "3.12.9"
  }
 },
 "nbformat": 4,
 "nbformat_minor": 5
}
