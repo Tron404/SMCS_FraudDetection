{
 "cells": [
  {
   "cell_type": "code",
   "execution_count": 1,
   "metadata": {},
   "outputs": [],
   "source": [
    "from data_processing import *\n",
    "\n",
    "train_data, OUT_DIM = load_create_ellipticpp(timestep=(1,32))\n",
    "test_data, OUT_DIM = load_create_ellipticpp(timestep=(33,42))\n",
    "\n",
    "# loader = split_into_batches(data, num_batches=batch_size, num_hops=2, num_neighbours=100)\n",
    "# num_features = next(iter(loader)).x.shape[-1]\n",
    "# data\n"
   ]
  },
  {
   "cell_type": "code",
   "execution_count": 2,
   "metadata": {},
   "outputs": [],
   "source": [
    "# maybe remvoe mask and cosnider temporal split for elliptic++\n",
    "# dataloader (from pt) - implement sampler here -> neighourloader\n",
    "# summary stats on avg degree of a node when considering ([-1,-1] neighbourhoods)\n",
    "# graphsage/gat with full neighbourhood, 75%/50%/25% reduction in neighbourhood"
   ]
  },
  {
   "cell_type": "code",
   "execution_count": 3,
   "metadata": {},
   "outputs": [],
   "source": [
    "# from torch.utils.data import Sampler\n",
    "# from torch_geometric.loader import DataLoader\n",
    "# from typing import Iterator, Iterable, List\n",
    "\n",
    "# class customGraphSampler(Sampler[List[int]]):\n",
    "#     def __init__(self, data: Iterable, batch_size: int=32, positive_label: int=1, negative_label: int=0) -> None:\n",
    "#         self.data = data\n",
    "#         self.batch_size = batch_size\n",
    "#         self.positive_label = positive_label\n",
    "#         self.negative_label = negative_label\n",
    "\n",
    "#     # number of batches\n",
    "#     # @TODO: recompute based on labels\n",
    "#     def __len__(self) -> int:\n",
    "#         return (len(self.data.x) + self.batch_size - 1) // self.batch_size\n",
    "\n",
    "#     def _is_half_batch_size(self, counter_sample) -> int:\n",
    "#         return counter_sample >= self.batch_size // 2\n",
    "\n",
    "#     def __iter__(self) -> Iterator[int]:\n",
    "#         batch = []\n",
    "#         # torch where y == 0, y == 1 -> select first batch_size idx `y == 0` and batch_size - selection_size `y == 1`\n",
    "        \n",
    "#         # ****@TODO: iterate over the entire dataset and add to single list? -- and discard non relevant batches\n",
    "#         ### get all neighbours\n",
    "#         # @TODO: iterate over the entire dataset but keep some other batches as well\n",
    "#         # @TODO: accumulate positive and negative in separate lists and then combine?\n",
    "#         # @TODO: sample from two lists and add indices\n",
    "\n",
    "#         # @TODO: shuffle indices?\n",
    "#         self.sizes = 2\n",
    "\n",
    "#         # [1,0,1,0,2_]\n",
    "#         # pos = 2\n",
    "#         # neg = 2\n",
    "#         # idx = 4 -> idx+1 = 5\n",
    "#         # len = 5\n",
    "\n",
    "#         counter_positive_label = 0\n",
    "#         counter_negative_label = 0\n",
    "#         for idx, label in enumerate(self.data.y):\n",
    "#             if label == self.positive_label and not self._is_half_batch_size(counter_positive_label) and idx in self.data.edge_index[0]:\n",
    "#                 batch += [idx]\n",
    "#                 counter_positive_label += 1\n",
    "#             elif label == self.negative_label and not self._is_half_batch_size(counter_negative_label) and idx in self.data.edge_index[0]:\n",
    "#                 batch += [idx]\n",
    "#                 counter_negative_label += 1\n",
    "\n",
    "#             if (len(batch) == self.batch_size):\n",
    "#                 # print(batch)\n",
    "#                 # yield self.data.subgraph(torch.as_tensor(batch))\n",
    "#                 yield batch\n",
    "#                 batch = []\n",
    "#                 counter_positive_label = 0\n",
    "#                 counter_negative_label = 0\n",
    "\n",
    "# # get node idx (Y) -> make batch (Y) -> get ALL neibghours of idx (in n hops)\n",
    "# # separate graph into subgraphs (where each subgraph = 64 nodes + neighbours) -> make batches ...\n",
    "\n",
    "# # s = customGraphSampler(d, batch_size=6, positive_label=0, negative_label=1) # generate indices to form a batch\n",
    "# # da = DataLoader(dataset=d.x, sampler=s, batch_size=5) # go over the entire dataset (here, list of node values) and create a batch from the sampled indices"
   ]
  },
  {
   "cell_type": "code",
   "execution_count": 80,
   "metadata": {},
   "outputs": [],
   "source": [
    "from torch.utils.data import Sampler\n",
    "from torch_geometric.loader import DataLoader\n",
    "from typing import Iterator, Iterable, List\n",
    "\n",
    "class customGraphSampler(Sampler[List[int]]):\n",
    "    def __init__(self, data: Iterable, batch_size: int=32, positive_label: int=1, negative_label: int=0) -> None:\n",
    "        torch.manual_seed(42)\n",
    "\n",
    "        self.data = data\n",
    "        self.batch_size = batch_size\n",
    "        self.positive_label = positive_label\n",
    "        self.negative_label = negative_label\n",
    "\n",
    "        self.y_positive_idx = torch.where(self.data.y == positive_label, 1, 0).nonzero().squeeze()\n",
    "        self.y_positive_idx = self.y_positive_idx[torch.randperm(self.y_positive_idx.size()[0])]\n",
    "\n",
    "        self.y_negative_idx = torch.where(self.data.y == negative_label, 1, 0).nonzero().squeeze()\n",
    "        self.y_negative_idx = self.y_negative_idx[torch.randperm(self.y_negative_idx.size()[0])]\n",
    "\n",
    "    # number of batches\n",
    "    # @TODO: recompute based on labels\n",
    "    def __len__(self) -> int:\n",
    "        return (len(self.data.x) + self.batch_size - 1) // self.batch_size\n",
    "\n",
    "    def _is_half_batch_size(self, counter_sample) -> int:\n",
    "        return counter_sample >= self.batch_size // 2\n",
    "\n",
    "    def __iter__(self) -> Iterator[int]:\n",
    "        batch = []\n",
    "        # torch where y == 0, y == 1 -> select first batch_size idx `y == 0` and batch_size - selection_size `y == 1`\n",
    "        \n",
    "        # ****@TODO: iterate over the entire dataset and add to single list? -- and discard non relevant batches\n",
    "        ### get all neighbours\n",
    "        # @TODO: iterate over the entire dataset but keep some other batches as well\n",
    "        # @TODO: accumulate positive and negative in separate lists and then combine?\n",
    "        # @TODO: sample from two lists and add indices\n",
    "\n",
    "        # @TODO: shuffle indices?\n",
    "\n",
    "        print(self.y_positive_idx.shape)\n",
    "        print(self.y_negative_idx.shape)\n",
    "\n",
    "        aux_y_positive_idx = self.y_positive_idx\n",
    "        aux_y_negative_idx = self.y_negative_idx\n",
    "\n",
    "        half_batch_size = self.batch_size // 2\n",
    "\n",
    "        while aux_y_positive_idx.shape[0] >= half_batch_size and aux_y_negative_idx.shape[0] >= half_batch_size:\n",
    "            positive_labels = aux_y_positive_idx[:half_batch_size]\n",
    "            aux_y_positive_idx = aux_y_positive_idx[half_batch_size:]\n",
    "\n",
    "            negative_labels = aux_y_negative_idx[:half_batch_size]\n",
    "            aux_y_negative_idx = aux_y_negative_idx[half_batch_size:]\n",
    "\n",
    "            batch = torch.concat([positive_labels, negative_labels], dim=-1)\n",
    "\n",
    "            yield batch\n",
    "\n",
    "# add hops to get neighbours of neighbours\n",
    "# also include all selected nodes\n",
    "def select_nodes_from_central(data: Data, nodes: torch.Tensor):\n",
    "    edge_mask = [data.edge_index[:,torch.where(data.edge_index == node, 1, 0)[0].nonzero().squeeze(-1)] for node in nodes]\n",
    "    edge_index = torch.concat(edge_mask, dim=1)\n",
    "\n",
    "    print(edge_index)\n",
    "\n",
    "    node_new_idx_map = {old_idx: new_idx for new_idx, old_idx in enumerate(edge_index.unique().tolist())}\n",
    "    for old_idx, new_idx in node_new_idx_map.items():\n",
    "        edge_index[edge_index == old_idx] = new_idx\n",
    "\n",
    "    all_old_nodes_idx = list(node_new_idx_map.keys())\n",
    "    return edge_index, all_old_nodes_idx\n",
    "\n",
    "def split(data: Data, sampler):\n",
    "    batch_graph = []\n",
    "    for sample in sampler:\n",
    "        edge_index, old_idx = select_nodes_from_central(data, sample)\n",
    "        batch_graph += [\n",
    "            Data(x=data.x[old_idx,:],\n",
    "                 y=data.y[old_idx],\n",
    "                 edge_index=edge_index,\n",
    "                 train_mask = data.y[sample])\n",
    "        ]\n",
    "        print(sample.shape[0])\n",
    "        print(sum([s.item() in old_idx for s in sample])/sample.shape[0])\n",
    "        print(sample)\n",
    "        print(old_idx)\n",
    "        break\n",
    "\n",
    "    return batch_graph\n",
    "\n",
    "# get node idx (Y) -> make batch (Y) -> get ALL neibghours of idx (in n hops)\n",
    "# separate graph into subgraphs (where each subgraph = 64 nodes + neighbours) -> make batches ...\n",
    "\n",
    "# s = customGraphSampler(d, batch_size=6, positive_label=0, negative_label=1) # generate indices to form a batch\n",
    "# da = DataLoader(dataset=d.x, sampler=s, batch_size=5) # go over the entire dataset (here, list of node values) and create a batch from the sampled indices"
   ]
  },
  {
   "cell_type": "code",
   "execution_count": 81,
   "metadata": {},
   "outputs": [
    {
     "name": "stdout",
     "output_type": "stream",
     "text": [
      "torch.Size([18456])\n",
      "torch.Size([212521])\n",
      "tensor([[483418, 483418, 398215, 398215],\n",
      "        [492824, 509093, 191336,   6430]], device='cuda:0')\n",
      "4\n",
      "0.5\n",
      "tensor([483418, 459271, 258212, 398215], device='cuda:0')\n",
      "[6430, 191336, 398215, 483418, 492824, 509093]\n"
     ]
    }
   ],
   "source": [
    "batch_sampler = customGraphSampler(train_data, batch_size=5, positive_label=0, negative_label=1) # generate indices to form a batch\n",
    "subgraphs = split(train_data, batch_sampler)\n",
    "train_data_batches = DataLoader(subgraphs)"
   ]
  },
  {
   "cell_type": "code",
   "execution_count": 43,
   "metadata": {},
   "outputs": [
    {
     "name": "stdout",
     "output_type": "stream",
     "text": [
      "torch.Size([7346])\n",
      "torch.Size([71363])\n",
      "tensor([0, 0, 0, 0, 0, 0, 0, 0, 0, 0, 0, 0, 0, 0, 0, 0, 0, 0, 0, 0, 0, 0, 0, 0,\n",
      "        0, 0, 0, 0, 0, 0, 0, 0, 1, 1, 1, 1, 1, 1, 1, 1, 1, 1, 1, 1, 1, 1, 1, 1,\n",
      "        1, 1, 1, 1, 1, 1, 1, 1, 1, 1, 1, 1, 1, 1, 1, 1], device='cuda:0')\n",
      "tensor(43, device='cuda:0')\n"
     ]
    }
   ],
   "source": [
    "batch_sampler = customGraphSampler(test_data, batch_size=64, positive_label=0, negative_label=1) # generate indices to form a batch\n",
    "subgraphs = split(test_data, batch_sampler)\n",
    "test_data_batches = DataLoader(subgraphs)"
   ]
  },
  {
   "cell_type": "code",
   "execution_count": 44,
   "metadata": {},
   "outputs": [
    {
     "data": {
      "text/plain": [
       "tensor([1, 1, 1, 1, 1, 1, 1, 1, 1, 1, 1, 1, 1, 1, 1, 1, 1, 1, 1, 1, 1, 1, 1, 1,\n",
       "        1, 1, 1, 1, 1, 1, 1, 1, 2, 2, 2, 2, 2, 2, 2, 2, 2, 2, 2, 2, 2, 2, 2, 2,\n",
       "        2, 2, 2, 2, 2, 2, 2, 2, 2, 2, 2, 2, 2, 2, 2, 2], device='cuda:0')"
      ]
     },
     "execution_count": 44,
     "metadata": {},
     "output_type": "execute_result"
    }
   ],
   "source": [
    "s = next(iter(train_data_batches))\n",
    "s.y[s.train_mask]"
   ]
  },
  {
   "cell_type": "markdown",
   "metadata": {},
   "source": [
    "# remove timestep attribute !!!!"
   ]
  },
  {
   "cell_type": "code",
   "execution_count": 8,
   "metadata": {},
   "outputs": [],
   "source": [
    "# from collections import Counter\n",
    "\n",
    "# sample = next(iter(loader))\n",
    "# (sample.y.tolist())\n",
    "\n",
    "# Counter(sample.y.tolist())"
   ]
  },
  {
   "cell_type": "code",
   "execution_count": 9,
   "metadata": {},
   "outputs": [],
   "source": [
    "# from torch_geometric.datasets import elliptic\n",
    "\n",
    "# da = elliptic.EllipticBitcoinDataset(\"./\").data.to(\"cuda\")"
   ]
  },
  {
   "cell_type": "code",
   "execution_count": 10,
   "metadata": {},
   "outputs": [],
   "source": [
    "# loader = split_into_batches(da, num_batches=100000, num_neighbours=100, num_hops=2)"
   ]
  },
  {
   "cell_type": "code",
   "execution_count": 11,
   "metadata": {},
   "outputs": [],
   "source": [
    "# imbalanced dataset -> try to sample in a batch 64 central nodes - 32 class 0, 32 class 1\n",
    "# use 2 neighbourloaders -> one for central node with custom sampling, one with random for neighbours (using node idxs)"
   ]
  },
  {
   "cell_type": "code",
   "execution_count": 12,
   "metadata": {},
   "outputs": [],
   "source": [
    "import torch.nn.functional as F\n",
    "from torch_geometric.nn import SAGEConv\n",
    "\n",
    "class SAGE(torch.nn.Module):\n",
    "    def __init__(self, in_dim, out_dim, **layer_paras):\n",
    "        super().__init__()\n",
    "\n",
    "        self.num_layers = layer_paras.pop(\"num_layers\",1)\n",
    "        self.hidden_dim = layer_paras.pop(\"hidden_channels\")\n",
    "        self.cached = layer_paras.pop(\"cached\", True)\n",
    "\n",
    "        self.dropout = layer_paras.pop(\"dropout\", 0.0)\n",
    "\n",
    "        self.conv_layers = []\n",
    "\n",
    "        self.conv_layers += [\n",
    "            SAGEConv(in_dim, self.hidden_dim) # input layer; cached=True => for transductive learning\n",
    "        ]\n",
    "        for _ in range(self.num_layers-2):\n",
    "            self.conv_layers += [\n",
    "                SAGEConv(self.hidden_dim, self.hidden_dim)\n",
    "            ]\n",
    "        self.conv_layers += [\n",
    "            SAGEConv(self.hidden_dim, out_dim) # output layer; cached=True => for transductive learning\n",
    "        ]\n",
    "\n",
    "        self.conv_layers = torch.nn.ParameterList(self.conv_layers)\n",
    "\n",
    "    def forward(self, x, edge_index):\n",
    "        for conv in self.conv_layers[:-1]:\n",
    "            x = conv(x, edge_index)\n",
    "            x = F.relu(x)\n",
    "            x = F.dropout(x, training=self.training, p=self.dropout)\n",
    "        x = self.conv_layers[-1](x, edge_index)\n",
    "\n",
    "        return F.log_softmax(x, dim=1)"
   ]
  },
  {
   "cell_type": "code",
   "execution_count": 13,
   "metadata": {},
   "outputs": [
    {
     "data": {
      "text/plain": [
       "SAGE(\n",
       "  (conv_layers): ParameterList(\n",
       "      (0): Object of type: SAGEConv\n",
       "      (1): Object of type: SAGEConv\n",
       "      (2): Object of type: SAGEConv\n",
       "    (0): SAGEConv(55, 55, aggr=mean)\n",
       "    (1): SAGEConv(55, 55, aggr=mean)\n",
       "    (2): SAGEConv(55, 2, aggr=mean)\n",
       "  )\n",
       ")"
      ]
     },
     "execution_count": 13,
     "metadata": {},
     "output_type": "execute_result"
    }
   ],
   "source": [
    "paras = {\n",
    "    'lr':0.01,\n",
    "    'num_layers':3,\n",
    "    'hidden_channels':55,\n",
    "    'dropout':0.4,\n",
    "    'batchnorm': False,\n",
    "    'l2':5e-7,\n",
    "    'cached': True,\n",
    "}\n",
    "DEVICE = torch.device(\"cuda:0\" if torch.cuda.is_available() else \"cpu\")\n",
    "model = SAGE(in_dim=55, out_dim=2, **paras).to(DEVICE)\n",
    "model"
   ]
  },
  {
   "cell_type": "code",
   "execution_count": 74,
   "metadata": {},
   "outputs": [
    {
     "name": "stderr",
     "output_type": "stream",
     "text": [
      "  0%|          | 0/5 [00:00<?, ?it/s]../aten/src/ATen/native/cuda/Loss.cu:250: nll_loss_forward_reduce_cuda_kernel_2d: block: [0,0,0], thread: [0,0,0] Assertion `t >= 0 && t < n_classes` failed.\n",
      "../aten/src/ATen/native/cuda/Loss.cu:250: nll_loss_forward_reduce_cuda_kernel_2d: block: [0,0,0], thread: [1,0,0] Assertion `t >= 0 && t < n_classes` failed.\n",
      "../aten/src/ATen/native/cuda/Loss.cu:250: nll_loss_forward_reduce_cuda_kernel_2d: block: [0,0,0], thread: [2,0,0] Assertion `t >= 0 && t < n_classes` failed.\n",
      "../aten/src/ATen/native/cuda/Loss.cu:250: nll_loss_forward_reduce_cuda_kernel_2d: block: [0,0,0], thread: [3,0,0] Assertion `t >= 0 && t < n_classes` failed.\n",
      "../aten/src/ATen/native/cuda/Loss.cu:250: nll_loss_forward_reduce_cuda_kernel_2d: block: [0,0,0], thread: [4,0,0] Assertion `t >= 0 && t < n_classes` failed.\n",
      "../aten/src/ATen/native/cuda/Loss.cu:250: nll_loss_forward_reduce_cuda_kernel_2d: block: [0,0,0], thread: [5,0,0] Assertion `t >= 0 && t < n_classes` failed.\n",
      "../aten/src/ATen/native/cuda/Loss.cu:250: nll_loss_forward_reduce_cuda_kernel_2d: block: [0,0,0], thread: [6,0,0] Assertion `t >= 0 && t < n_classes` failed.\n",
      "../aten/src/ATen/native/cuda/Loss.cu:250: nll_loss_forward_reduce_cuda_kernel_2d: block: [0,0,0], thread: [7,0,0] Assertion `t >= 0 && t < n_classes` failed.\n",
      "../aten/src/ATen/native/cuda/Loss.cu:250: nll_loss_forward_reduce_cuda_kernel_2d: block: [0,0,0], thread: [8,0,0] Assertion `t >= 0 && t < n_classes` failed.\n",
      "../aten/src/ATen/native/cuda/Loss.cu:250: nll_loss_forward_reduce_cuda_kernel_2d: block: [0,0,0], thread: [9,0,0] Assertion `t >= 0 && t < n_classes` failed.\n",
      "../aten/src/ATen/native/cuda/Loss.cu:250: nll_loss_forward_reduce_cuda_kernel_2d: block: [0,0,0], thread: [10,0,0] Assertion `t >= 0 && t < n_classes` failed.\n",
      "../aten/src/ATen/native/cuda/Loss.cu:250: nll_loss_forward_reduce_cuda_kernel_2d: block: [0,0,0], thread: [11,0,0] Assertion `t >= 0 && t < n_classes` failed.\n",
      "../aten/src/ATen/native/cuda/Loss.cu:250: nll_loss_forward_reduce_cuda_kernel_2d: block: [0,0,0], thread: [12,0,0] Assertion `t >= 0 && t < n_classes` failed.\n",
      "../aten/src/ATen/native/cuda/Loss.cu:250: nll_loss_forward_reduce_cuda_kernel_2d: block: [0,0,0], thread: [13,0,0] Assertion `t >= 0 && t < n_classes` failed.\n",
      "../aten/src/ATen/native/cuda/Loss.cu:250: nll_loss_forward_reduce_cuda_kernel_2d: block: [0,0,0], thread: [14,0,0] Assertion `t >= 0 && t < n_classes` failed.\n",
      "../aten/src/ATen/native/cuda/Loss.cu:250: nll_loss_forward_reduce_cuda_kernel_2d: block: [0,0,0], thread: [15,0,0] Assertion `t >= 0 && t < n_classes` failed.\n",
      "../aten/src/ATen/native/cuda/Loss.cu:250: nll_loss_forward_reduce_cuda_kernel_2d: block: [0,0,0], thread: [16,0,0] Assertion `t >= 0 && t < n_classes` failed.\n",
      "../aten/src/ATen/native/cuda/Loss.cu:250: nll_loss_forward_reduce_cuda_kernel_2d: block: [0,0,0], thread: [17,0,0] Assertion `t >= 0 && t < n_classes` failed.\n",
      "../aten/src/ATen/native/cuda/Loss.cu:250: nll_loss_forward_reduce_cuda_kernel_2d: block: [0,0,0], thread: [18,0,0] Assertion `t >= 0 && t < n_classes` failed.\n",
      "../aten/src/ATen/native/cuda/Loss.cu:250: nll_loss_forward_reduce_cuda_kernel_2d: block: [0,0,0], thread: [19,0,0] Assertion `t >= 0 && t < n_classes` failed.\n",
      "../aten/src/ATen/native/cuda/Loss.cu:250: nll_loss_forward_reduce_cuda_kernel_2d: block: [0,0,0], thread: [20,0,0] Assertion `t >= 0 && t < n_classes` failed.\n",
      "../aten/src/ATen/native/cuda/Loss.cu:250: nll_loss_forward_reduce_cuda_kernel_2d: block: [0,0,0], thread: [21,0,0] Assertion `t >= 0 && t < n_classes` failed.\n",
      "../aten/src/ATen/native/cuda/Loss.cu:250: nll_loss_forward_reduce_cuda_kernel_2d: block: [0,0,0], thread: [22,0,0] Assertion `t >= 0 && t < n_classes` failed.\n",
      "../aten/src/ATen/native/cuda/Loss.cu:250: nll_loss_forward_reduce_cuda_kernel_2d: block: [0,0,0], thread: [23,0,0] Assertion `t >= 0 && t < n_classes` failed.\n",
      "../aten/src/ATen/native/cuda/Loss.cu:250: nll_loss_forward_reduce_cuda_kernel_2d: block: [0,0,0], thread: [24,0,0] Assertion `t >= 0 && t < n_classes` failed.\n",
      "../aten/src/ATen/native/cuda/Loss.cu:250: nll_loss_forward_reduce_cuda_kernel_2d: block: [0,0,0], thread: [25,0,0] Assertion `t >= 0 && t < n_classes` failed.\n",
      "../aten/src/ATen/native/cuda/Loss.cu:250: nll_loss_forward_reduce_cuda_kernel_2d: block: [0,0,0], thread: [26,0,0] Assertion `t >= 0 && t < n_classes` failed.\n",
      "../aten/src/ATen/native/cuda/Loss.cu:250: nll_loss_forward_reduce_cuda_kernel_2d: block: [0,0,0], thread: [27,0,0] Assertion `t >= 0 && t < n_classes` failed.\n",
      "../aten/src/ATen/native/cuda/Loss.cu:250: nll_loss_forward_reduce_cuda_kernel_2d: block: [0,0,0], thread: [28,0,0] Assertion `t >= 0 && t < n_classes` failed.\n",
      "../aten/src/ATen/native/cuda/Loss.cu:250: nll_loss_forward_reduce_cuda_kernel_2d: block: [0,0,0], thread: [29,0,0] Assertion `t >= 0 && t < n_classes` failed.\n",
      "../aten/src/ATen/native/cuda/Loss.cu:250: nll_loss_forward_reduce_cuda_kernel_2d: block: [0,0,0], thread: [30,0,0] Assertion `t >= 0 && t < n_classes` failed.\n",
      "../aten/src/ATen/native/cuda/Loss.cu:250: nll_loss_forward_reduce_cuda_kernel_2d: block: [0,0,0], thread: [31,0,0] Assertion `t >= 0 && t < n_classes` failed.\n",
      "  0%|          | 0/5 [00:00<?, ?it/s]\n"
     ]
    },
    {
     "ename": "RuntimeError",
     "evalue": "CUDA error: device-side assert triggered\nCUDA kernel errors might be asynchronously reported at some other API call, so the stacktrace below might be incorrect.\nFor debugging consider passing CUDA_LAUNCH_BLOCKING=1\nCompile with `TORCH_USE_CUDA_DSA` to enable device-side assertions.\n",
     "output_type": "error",
     "traceback": [
      "\u001b[31m---------------------------------------------------------------------------\u001b[39m",
      "\u001b[31mRuntimeError\u001b[39m                              Traceback (most recent call last)",
      "\u001b[36mCell\u001b[39m\u001b[36m \u001b[39m\u001b[32mIn[74]\u001b[39m\u001b[32m, line 40\u001b[39m\n\u001b[32m     36\u001b[39m     \u001b[38;5;28;01mreturn\u001b[39;00m loss_all, loss_valid_all\n\u001b[32m     38\u001b[39m optimizer = torch.optim.Adam(model.parameters(), lr=paras[\u001b[33m\"\u001b[39m\u001b[33mlr\u001b[39m\u001b[33m\"\u001b[39m], weight_decay=paras[\u001b[33m\"\u001b[39m\u001b[33ml2\u001b[39m\u001b[33m\"\u001b[39m])\n\u001b[32m---> \u001b[39m\u001b[32m40\u001b[39m loss_all, loss_valid_all = \u001b[43mtrain\u001b[49m\u001b[43m(\u001b[49m\u001b[43mtrain_data_batches\u001b[49m\u001b[43m,\u001b[49m\u001b[43m \u001b[49m\u001b[43mmodel\u001b[49m\u001b[43m,\u001b[49m\u001b[43m \u001b[49m\u001b[43moptimizer\u001b[49m\u001b[43m,\u001b[49m\u001b[43m \u001b[49m\u001b[43mepoch_num\u001b[49m\u001b[43m=\u001b[49m\u001b[32;43m5\u001b[39;49m\u001b[43m)\u001b[49m\n",
      "\u001b[36mCell\u001b[39m\u001b[36m \u001b[39m\u001b[32mIn[74]\u001b[39m\u001b[32m, line 16\u001b[39m, in \u001b[36mtrain\u001b[39m\u001b[34m(batches, model, optimizer, epoch_num)\u001b[39m\n\u001b[32m     13\u001b[39m out = model(batch.x, batch.edge_index)\n\u001b[32m     15\u001b[39m loss = F.cross_entropy(out[batch.train_mask], batch.y[batch.train_mask])\n\u001b[32m---> \u001b[39m\u001b[32m16\u001b[39m running_loss += \u001b[43mloss\u001b[49m\u001b[43m.\u001b[49m\u001b[43mitem\u001b[49m\u001b[43m(\u001b[49m\u001b[43m)\u001b[49m\n\u001b[32m     18\u001b[39m optimizer.zero_grad()\n\u001b[32m     19\u001b[39m loss.backward()\n",
      "\u001b[31mRuntimeError\u001b[39m: CUDA error: device-side assert triggered\nCUDA kernel errors might be asynchronously reported at some other API call, so the stacktrace below might be incorrect.\nFor debugging consider passing CUDA_LAUNCH_BLOCKING=1\nCompile with `TORCH_USE_CUDA_DSA` to enable device-side assertions.\n"
     ]
    }
   ],
   "source": [
    "from tqdm import tqdm\n",
    "\n",
    "def train(batches, model, optimizer, epoch_num=1):\n",
    "    loss_all = []\n",
    "    loss_valid_all = []\n",
    "\n",
    "    model.train()\n",
    "    iterator = tqdm(range(epoch_num), desc=\"\")\n",
    "    for epoch in iterator:\n",
    "        running_loss = 0\n",
    "        valid_loss = 0\n",
    "        for idx, batch in enumerate(batches):\n",
    "            out = model(batch.x, batch.edge_index)\n",
    "\n",
    "            loss = F.cross_entropy(out[batch.train_mask], batch.y[batch.train_mask])\n",
    "            running_loss += loss.item()\n",
    "\n",
    "            optimizer.zero_grad()\n",
    "            loss.backward()\n",
    "            optimizer.step()\n",
    "\n",
    "            iterator.set_description(f\"Epoch: {epoch+1}/{epoch_num}; Batch: {idx+1}/{len(subgraphs)}; Loss: {running_loss/(idx+1):0.4f}\")\n",
    "\n",
    "        # loss_valid = F.cross_entropy(out[batch.val_mask], batch.y[batch.val_mask])\n",
    "        # running_valid_loss += loss_valid.item()    \n",
    "        # iterator.set_description(f\"Epoch: {epoch+1}/{epoch_num}; Batch: {idx+1}/{data.x.shape[0]//batch_size}; Loss: {running_loss/(idx+1):0.4f}\")\n",
    "        # @TODO: add validation round to monitor performance\n",
    "        # loss_all += [running_loss/(data.x.shape[0]//batch_size)]\n",
    "        # loss_valid_all += [running_valid_loss/(data.x.shape[0]//batch_size)]\n",
    "\n",
    "        loss_all += [running_loss/(idx+1)]\n",
    "        loss_valid_all += [valid_loss]\n",
    "\n",
    "        iterator.set_description(f\"Epoch: {epoch+1}/{epoch_num}; Batch: {idx}; Loss={loss_all[-1]:.4f}; Loss-Validation={loss_valid_all[-1]:.4f}\")\n",
    "\n",
    "    return loss_all, loss_valid_all\n",
    "\n",
    "optimizer = torch.optim.Adam(model.parameters(), lr=paras[\"lr\"], weight_decay=paras[\"l2\"])\n",
    "\n",
    "loss_all, loss_valid_all = train(train_data_batches, model, optimizer, epoch_num=5)\n"
   ]
  },
  {
   "cell_type": "code",
   "execution_count": 71,
   "metadata": {},
   "outputs": [
    {
     "data": {
      "text/plain": [
       "[<matplotlib.lines.Line2D at 0x759fe69aa300>]"
      ]
     },
     "execution_count": 71,
     "metadata": {},
     "output_type": "execute_result"
    },
    {
     "data": {
      "image/png": "[encoded data removed]",
      "text/plain": [
       "<Figure size 640x480 with 1 Axes>"
      ]
     },
     "metadata": {},
     "output_type": "display_data"
    }
   ],
   "source": [
    "import matplotlib.pyplot as plt\n",
    "\n",
    "plt.plot(loss_all)\n",
    "# plt.plot(loss_valid_all)"
   ]
  },
  {
   "cell_type": "code",
   "execution_count": 72,
   "metadata": {},
   "outputs": [
    {
     "ename": "RuntimeError",
     "evalue": "Detected the following values in `preds`: tensor([2], device='cuda:0') but expected only the following values [0,1] since `preds` is a label tensor.",
     "output_type": "error",
     "traceback": [
      "\u001b[31m---------------------------------------------------------------------------\u001b[39m",
      "\u001b[31mRuntimeError\u001b[39m                              Traceback (most recent call last)",
      "\u001b[36mCell\u001b[39m\u001b[36m \u001b[39m\u001b[32mIn[72]\u001b[39m\u001b[32m, line 7\u001b[39m\n\u001b[32m      5\u001b[39m \u001b[38;5;28;01mfor\u001b[39;00m batch \u001b[38;5;129;01min\u001b[39;00m test_data_batches:\n\u001b[32m      6\u001b[39m     pred = model(batch.x, batch.edge_index).argmax(dim=\u001b[32m1\u001b[39m)\n\u001b[32m----> \u001b[39m\u001b[32m7\u001b[39m     scores = \u001b[43mgroundtruth_metrics\u001b[49m\u001b[43m(\u001b[49m\n\u001b[32m      8\u001b[39m \u001b[43m        \u001b[49m\u001b[43mpred_mask\u001b[49m\u001b[43m=\u001b[49m\u001b[43mpred\u001b[49m\u001b[43m[\u001b[49m\u001b[43mbatch\u001b[49m\u001b[43m.\u001b[49m\u001b[43mtrain_mask\u001b[49m\u001b[43m]\u001b[49m\u001b[43m,\u001b[49m\n\u001b[32m      9\u001b[39m \u001b[43m        \u001b[49m\u001b[43mtarget_mask\u001b[49m\u001b[43m=\u001b[49m\u001b[43mbatch\u001b[49m\u001b[43m.\u001b[49m\u001b[43my\u001b[49m\u001b[43m[\u001b[49m\u001b[43mbatch\u001b[49m\u001b[43m.\u001b[49m\u001b[43mtrain_mask\u001b[49m\u001b[43m]\u001b[49m\u001b[43m,\u001b[49m\n\u001b[32m     10\u001b[39m \u001b[43m        \u001b[49m\u001b[43mthreshold\u001b[49m\u001b[43m=\u001b[49m\u001b[32;43m0.5\u001b[39;49m\u001b[43m,\u001b[49m\n\u001b[32m     11\u001b[39m \u001b[43m        \u001b[49m\u001b[43mmetrics\u001b[49m\u001b[43m=\u001b[49m\u001b[43m[\u001b[49m\u001b[33;43m\"\u001b[39;49m\u001b[33;43maccuracy\u001b[39;49m\u001b[33;43m\"\u001b[39;49m\u001b[43m,\u001b[49m\u001b[43m \u001b[49m\u001b[33;43m\"\u001b[39;49m\u001b[33;43mprecision\u001b[39;49m\u001b[33;43m\"\u001b[39;49m\u001b[43m,\u001b[49m\u001b[43m \u001b[49m\u001b[33;43m\"\u001b[39;49m\u001b[33;43mrecall\u001b[39;49m\u001b[33;43m\"\u001b[39;49m\u001b[43m,\u001b[49m\u001b[43m \u001b[49m\u001b[33;43m\"\u001b[39;49m\u001b[33;43mf1_score\u001b[39;49m\u001b[33;43m\"\u001b[39;49m\u001b[43m]\u001b[49m\n\u001b[32m     12\u001b[39m \u001b[43m    \u001b[49m\u001b[43m)\u001b[49m\n\u001b[32m     13\u001b[39m     avg_scores += [scores]\n\u001b[32m     15\u001b[39m \u001b[38;5;28;01mimport\u001b[39;00m\u001b[38;5;250m \u001b[39m\u001b[34;01mnumpy\u001b[39;00m\u001b[38;5;250m \u001b[39m\u001b[38;5;28;01mas\u001b[39;00m\u001b[38;5;250m \u001b[39m\u001b[34;01mnp\u001b[39;00m\n",
      "\u001b[36mFile \u001b[39m\u001b[32m~/anaconda3/envs/smcs/lib/python3.12/site-packages/torch_geometric/explain/metric/basic.py:52\u001b[39m, in \u001b[36mgroundtruth_metrics\u001b[39m\u001b[34m(pred_mask, target_mask, metrics, threshold)\u001b[39m\n\u001b[32m     50\u001b[39m         out = fn(pred_mask, target_mask, \u001b[33m'\u001b[39m\u001b[33mbinary\u001b[39m\u001b[33m'\u001b[39m)\n\u001b[32m     51\u001b[39m     \u001b[38;5;28;01melse\u001b[39;00m:\n\u001b[32m---> \u001b[39m\u001b[32m52\u001b[39m         out = \u001b[43mfn\u001b[49m\u001b[43m(\u001b[49m\u001b[43mpred_mask\u001b[49m\u001b[43m,\u001b[49m\u001b[43m \u001b[49m\u001b[43mtarget_mask\u001b[49m\u001b[43m,\u001b[49m\u001b[43m \u001b[49m\u001b[33;43m'\u001b[39;49m\u001b[33;43mbinary\u001b[39;49m\u001b[33;43m'\u001b[39;49m\u001b[43m,\u001b[49m\u001b[43m \u001b[49m\u001b[43mthreshold\u001b[49m\u001b[43m)\u001b[49m\n\u001b[32m     54\u001b[39m     outs.append(\u001b[38;5;28mfloat\u001b[39m(out))\n\u001b[32m     56\u001b[39m \u001b[38;5;28;01mreturn\u001b[39;00m \u001b[38;5;28mtuple\u001b[39m(outs) \u001b[38;5;28;01mif\u001b[39;00m \u001b[38;5;28mlen\u001b[39m(outs) > \u001b[32m1\u001b[39m \u001b[38;5;28;01melse\u001b[39;00m outs[\u001b[32m0\u001b[39m]\n",
      "\u001b[36mFile \u001b[39m\u001b[32m~/anaconda3/envs/smcs/lib/python3.12/site-packages/torchmetrics/functional/classification/accuracy.py:419\u001b[39m, in \u001b[36maccuracy\u001b[39m\u001b[34m(preds, target, task, threshold, num_classes, num_labels, average, multidim_average, top_k, ignore_index, validate_args)\u001b[39m\n\u001b[32m    416\u001b[39m task = ClassificationTask.from_str(task)\n\u001b[32m    418\u001b[39m \u001b[38;5;28;01mif\u001b[39;00m task == ClassificationTask.BINARY:\n\u001b[32m--> \u001b[39m\u001b[32m419\u001b[39m     \u001b[38;5;28;01mreturn\u001b[39;00m \u001b[43mbinary_accuracy\u001b[49m\u001b[43m(\u001b[49m\u001b[43mpreds\u001b[49m\u001b[43m,\u001b[49m\u001b[43m \u001b[49m\u001b[43mtarget\u001b[49m\u001b[43m,\u001b[49m\u001b[43m \u001b[49m\u001b[43mthreshold\u001b[49m\u001b[43m,\u001b[49m\u001b[43m \u001b[49m\u001b[43mmultidim_average\u001b[49m\u001b[43m,\u001b[49m\u001b[43m \u001b[49m\u001b[43mignore_index\u001b[49m\u001b[43m,\u001b[49m\u001b[43m \u001b[49m\u001b[43mvalidate_args\u001b[49m\u001b[43m)\u001b[49m\n\u001b[32m    420\u001b[39m \u001b[38;5;28;01mif\u001b[39;00m task == ClassificationTask.MULTICLASS:\n\u001b[32m    421\u001b[39m     \u001b[38;5;28;01mif\u001b[39;00m \u001b[38;5;129;01mnot\u001b[39;00m \u001b[38;5;28misinstance\u001b[39m(num_classes, \u001b[38;5;28mint\u001b[39m):\n",
      "\u001b[36mFile \u001b[39m\u001b[32m~/anaconda3/envs/smcs/lib/python3.12/site-packages/torchmetrics/functional/classification/accuracy.py:160\u001b[39m, in \u001b[36mbinary_accuracy\u001b[39m\u001b[34m(preds, target, threshold, multidim_average, ignore_index, validate_args)\u001b[39m\n\u001b[32m    158\u001b[39m \u001b[38;5;28;01mif\u001b[39;00m validate_args:\n\u001b[32m    159\u001b[39m     _binary_stat_scores_arg_validation(threshold, multidim_average, ignore_index)\n\u001b[32m--> \u001b[39m\u001b[32m160\u001b[39m     \u001b[43m_binary_stat_scores_tensor_validation\u001b[49m\u001b[43m(\u001b[49m\u001b[43mpreds\u001b[49m\u001b[43m,\u001b[49m\u001b[43m \u001b[49m\u001b[43mtarget\u001b[49m\u001b[43m,\u001b[49m\u001b[43m \u001b[49m\u001b[43mmultidim_average\u001b[49m\u001b[43m,\u001b[49m\u001b[43m \u001b[49m\u001b[43mignore_index\u001b[49m\u001b[43m)\u001b[49m\n\u001b[32m    161\u001b[39m preds, target = _binary_stat_scores_format(preds, target, threshold, ignore_index)\n\u001b[32m    162\u001b[39m tp, fp, tn, fn = _binary_stat_scores_update(preds, target, multidim_average)\n",
      "\u001b[36mFile \u001b[39m\u001b[32m~/anaconda3/envs/smcs/lib/python3.12/site-packages/torchmetrics/functional/classification/stat_scores.py:86\u001b[39m, in \u001b[36m_binary_stat_scores_tensor_validation\u001b[39m\u001b[34m(preds, target, multidim_average, ignore_index)\u001b[39m\n\u001b[32m     84\u001b[39m     unique_values = torch.unique(preds, dim=\u001b[38;5;28;01mNone\u001b[39;00m)\n\u001b[32m     85\u001b[39m     \u001b[38;5;28;01mif\u001b[39;00m torch.any((unique_values != \u001b[32m0\u001b[39m) & (unique_values != \u001b[32m1\u001b[39m)):\n\u001b[32m---> \u001b[39m\u001b[32m86\u001b[39m         \u001b[38;5;28;01mraise\u001b[39;00m \u001b[38;5;167;01mRuntimeError\u001b[39;00m(\n\u001b[32m     87\u001b[39m             \u001b[33mf\u001b[39m\u001b[33m\"\u001b[39m\u001b[33mDetected the following values in `preds`: \u001b[39m\u001b[38;5;132;01m{\u001b[39;00munique_values\u001b[38;5;132;01m}\u001b[39;00m\u001b[33m but expected only\u001b[39m\u001b[33m\"\u001b[39m\n\u001b[32m     88\u001b[39m             \u001b[33m\"\u001b[39m\u001b[33m the following values [0,1] since `preds` is a label tensor.\u001b[39m\u001b[33m\"\u001b[39m\n\u001b[32m     89\u001b[39m         )\n\u001b[32m     91\u001b[39m \u001b[38;5;28;01mif\u001b[39;00m multidim_average != \u001b[33m\"\u001b[39m\u001b[33mglobal\u001b[39m\u001b[33m\"\u001b[39m \u001b[38;5;129;01mand\u001b[39;00m preds.ndim < \u001b[32m2\u001b[39m:\n\u001b[32m     92\u001b[39m     \u001b[38;5;28;01mraise\u001b[39;00m \u001b[38;5;167;01mValueError\u001b[39;00m(\u001b[33m\"\u001b[39m\u001b[33mExpected input to be at least 2D when multidim_average is set to `samplewise`\u001b[39m\u001b[33m\"\u001b[39m)\n",
      "\u001b[31mRuntimeError\u001b[39m: Detected the following values in `preds`: tensor([2], device='cuda:0') but expected only the following values [0,1] since `preds` is a label tensor."
     ]
    }
   ],
   "source": [
    "from torch_geometric.explain.metric import groundtruth_metrics\n",
    "\n",
    "avg_scores = []\n",
    "model.eval()\n",
    "for batch in test_data_batches:\n",
    "    pred = model(batch.x, batch.edge_index).argmax(dim=1)\n",
    "    scores = groundtruth_metrics(\n",
    "        pred_mask=pred[batch.train_mask],\n",
    "        target_mask=batch.y[batch.train_mask],\n",
    "        threshold=0.5,\n",
    "        metrics=[\"accuracy\", \"precision\", \"recall\", \"f1_score\"]\n",
    "    )\n",
    "    avg_scores += [scores]\n",
    "\n",
    "import numpy as np\n",
    "\n",
    "np.asarray(avg_scores).mean(axis=0)"
   ]
  },
  {
   "cell_type": "code",
   "execution_count": null,
   "metadata": {},
   "outputs": [],
   "source": [
    "from torch_geometric.explain.metric import groundtruth_metrics\n",
    "\n",
    "avg_scores = []\n",
    "model.eval()\n",
    "skips = 0\n",
    "for batch in tqdm(loader, total=data.x.shape[0]//batch_size):\n",
    "    if batch.test_mask.sum() <= 0:\n",
    "        skips += 1\n",
    "        continue\n",
    "    pred = model(batch.x, batch.edge_index).argmax(dim=1)\n",
    "\n",
    "    scores = groundtruth_metrics(\n",
    "        pred_mask=pred[batch.test_mask],\n",
    "        target_mask=batch.y[batch.test_mask],\n",
    "        threshold=0.5,\n",
    "        metrics=[\"accuracy\", \"precision\", \"recall\", \"f1_score\"]\n",
    "    )\n",
    "    avg_scores += [scores]\n",
    "\n",
    "import numpy as np\n",
    "\n",
    "print(f\"Skips = {skips}\")\n",
    "np.asarray(avg_scores).mean(axis=0)"
   ]
  }
 ],
 "metadata": {
  "kernelspec": {
   "display_name": "smcs",
   "language": "python",
   "name": "python3"
  },
  "language_info": {
   "codemirror_mode": {
    "name": "ipython",
    "version": 3
   },
   "file_extension": ".py",
   "mimetype": "text/x-python",
   "name": "python",
   "nbconvert_exporter": "python",
   "pygments_lexer": "ipython3",
   "version": "3.12.9"
  }
 },
 "nbformat": 4,
 "nbformat_minor": 2
}
