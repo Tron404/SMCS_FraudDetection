{
 "cells": [
  {
   "cell_type": "code",
   "execution_count": 1,
   "metadata": {},
   "outputs": [],
   "source": [
    "from data_processing import *\n",
    "\n",
    "DEVICE = torch.device(\"cuda:0\" if torch.cuda.is_available() else \"cpu\")\n",
    "# DEVICE = torch.device(\"cpu\")\n",
    "train_data, OUT_DIM = load_create_ellipticpp(timestep=(1,32))\n",
    "train_data = train_data.to(DEVICE)\n",
    "test_data, OUT_DIM = load_create_ellipticpp(timestep=(33,37))\n",
    "test_data = test_data.to(DEVICE)\n",
    "valid_data, OUT_DIM = load_create_ellipticpp(timestep=(38,42))\n",
    "valid_data = test_data.to(DEVICE)\n",
    "# loader = split_into_batches(data, num_batches=batch_size, num_hops=2, num_neighbours=100)\n",
    "# num_features = next(iter(loader)).x.shape[-1]\n",
    "# data\n"
   ]
  },
  {
   "cell_type": "code",
   "execution_count": 2,
   "metadata": {},
   "outputs": [],
   "source": [
    "# maybe remvoe mask and cosnider temporal split for elliptic++\n",
    "# dataloader (from pt) - implement sampler here -> neighourloader\n",
    "# summary stats on avg degree of a node when considering ([-1,-1] neighbourhoods)\n",
    "# graphsage/gat with full neighbourhood, 75%/50%/25% reduction in neighbourhood"
   ]
  },
  {
   "cell_type": "code",
   "execution_count": 3,
   "metadata": {},
   "outputs": [],
   "source": [
    "# from torch.utils.data import Sampler\n",
    "# from torch_geometric.loader import DataLoader\n",
    "# from typing import Iterator, Iterable, List\n",
    "\n",
    "# class customGraphSampler(Sampler[List[int]]):\n",
    "#     def __init__(self, data: Iterable, batch_size: int=32, positive_label: int=1, negative_label: int=0) -> None:\n",
    "#         self.data = data\n",
    "#         self.batch_size = batch_size\n",
    "#         self.positive_label = positive_label\n",
    "#         self.negative_label = negative_label\n",
    "\n",
    "#     # number of batches\n",
    "#     # @TODO: recompute based on labels\n",
    "#     def __len__(self) -> int:\n",
    "#         return (len(self.data.x) + self.batch_size - 1) // self.batch_size\n",
    "\n",
    "#     def _is_half_batch_size(self, counter_sample) -> int:\n",
    "#         return counter_sample >= self.batch_size // 2\n",
    "\n",
    "#     def __iter__(self) -> Iterator[int]:\n",
    "#         batch = []\n",
    "#         # torch where y == 0, y == 1 -> select first batch_size idx `y == 0` and batch_size - selection_size `y == 1`\n",
    "        \n",
    "#         # ****@TODO: iterate over the entire dataset and add to single list? -- and discard non relevant batches\n",
    "#         ### get all neighbours\n",
    "#         # @TODO: iterate over the entire dataset but keep some other batches as well\n",
    "#         # @TODO: accumulate positive and negative in separate lists and then combine?\n",
    "#         # @TODO: sample from two lists and add indices\n",
    "\n",
    "#         # @TODO: shuffle indices?\n",
    "#         self.sizes = 2\n",
    "\n",
    "#         # [1,0,1,0,2_]\n",
    "#         # pos = 2\n",
    "#         # neg = 2\n",
    "#         # idx = 4 -> idx+1 = 5\n",
    "#         # len = 5\n",
    "\n",
    "#         counter_positive_label = 0\n",
    "#         counter_negative_label = 0\n",
    "#         for idx, label in enumerate(self.data.y):\n",
    "#             if label == self.positive_label and not self._is_half_batch_size(counter_positive_label) and idx in self.data.edge_index[0]:\n",
    "#                 batch += [idx]\n",
    "#                 counter_positive_label += 1\n",
    "#             elif label == self.negative_label and not self._is_half_batch_size(counter_negative_label) and idx in self.data.edge_index[0]:\n",
    "#                 batch += [idx]\n",
    "#                 counter_negative_label += 1\n",
    "\n",
    "#             if (len(batch) == self.batch_size):\n",
    "#                 # print(batch)\n",
    "#                 # yield self.data.subgraph(torch.as_tensor(batch))\n",
    "#                 yield batch\n",
    "#                 batch = []\n",
    "#                 counter_positive_label = 0\n",
    "#                 counter_negative_label = 0\n",
    "\n",
    "# # get node idx (Y) -> make batch (Y) -> get ALL neibghours of idx (in n hops)\n",
    "# # separate graph into subgraphs (where each subgraph = 64 nodes + neighbours) -> make batches ...\n",
    "\n",
    "# # s = customGraphSampler(d, batch_size=6, positive_label=0, negative_label=1) # generate indices to form a batch\n",
    "# # da = DataLoader(dataset=d.x, sampler=s, batch_size=5) # go over the entire dataset (here, list of node values) and create a batch from the sampled indices"
   ]
  },
  {
   "cell_type": "code",
   "execution_count": 4,
   "metadata": {},
   "outputs": [],
   "source": [
    "from torch.utils.data import Sampler\n",
    "from torch_geometric.loader import DataLoader\n",
    "from typing import Iterator, Iterable, List\n",
    "\n",
    "class customGraphSampler(Sampler[List[int]]):\n",
    "    def __init__(self, data: Iterable, batch_size: int=32, positive_label: int=1, negative_label: int=0) -> None:\n",
    "        torch.manual_seed(42)\n",
    "\n",
    "        self.data = data\n",
    "        self.batch_size = batch_size\n",
    "        self.positive_label = positive_label\n",
    "        self.negative_label = negative_label\n",
    "\n",
    "        self.y_positive_idx = torch.where(self.data.y == positive_label, 1, 0).nonzero().squeeze()\n",
    "        self.y_positive_idx = self.y_positive_idx[torch.randperm(self.y_positive_idx.size()[0])]\n",
    "\n",
    "        self.y_negative_idx = torch.where(self.data.y == negative_label, 1, 0).nonzero().squeeze()\n",
    "        self.y_negative_idx = self.y_negative_idx[torch.randperm(self.y_negative_idx.size()[0])]\n",
    "\n",
    "    # number of batches\n",
    "    # @TODO: recompute based on labels\n",
    "    def __len__(self) -> int:\n",
    "        return (len(self.data.x) + self.batch_size - 1) // self.batch_size\n",
    "\n",
    "    def _is_half_batch_size(self, counter_sample) -> int:\n",
    "        return counter_sample >= self.batch_size // 2\n",
    "\n",
    "    def __iter__(self) -> Iterator[int]:\n",
    "        batch = []\n",
    "        # torch where y == 0, y == 1 -> select first batch_size idx `y == 0` and batch_size - selection_size `y == 1`\n",
    "        \n",
    "        # ****@TODO: iterate over the entire dataset and add to single list? -- and discard non relevant batches\n",
    "        ### get all neighbours\n",
    "        # @TODO: iterate over the entire dataset but keep some other batches as well\n",
    "        # @TODO: accumulate positive and negative in separate lists and then combine?\n",
    "        # @TODO: sample from two lists and add indices\n",
    "\n",
    "        # @TODO: shuffle indices?\n",
    "\n",
    "        # print(self.y_positive_idx.shape)\n",
    "        # print(self.y_negative_idx.shape)\n",
    "\n",
    "        aux_y_positive_idx = self.y_positive_idx\n",
    "        aux_y_negative_idx = self.y_negative_idx\n",
    "\n",
    "        half_batch_size = self.batch_size // 2\n",
    "\n",
    "        while aux_y_positive_idx.shape[0] >= half_batch_size and aux_y_negative_idx.shape[0] >= half_batch_size:\n",
    "            positive_labels = aux_y_positive_idx[:half_batch_size]\n",
    "            aux_y_positive_idx = aux_y_positive_idx[half_batch_size:]\n",
    "\n",
    "            negative_labels = aux_y_negative_idx[:half_batch_size]\n",
    "            aux_y_negative_idx = aux_y_negative_idx[half_batch_size:]\n",
    "\n",
    "            batch = torch.concat([positive_labels, negative_labels], dim=-1)\n",
    "\n",
    "            yield batch\n",
    "\n",
    "# add hops to get neighbours of neighbours\n",
    "def select_nodes_from_central(data: Data, nodes: torch.Tensor):\n",
    "   \n",
    "    edge_mask = [data.edge_index[:,torch.where(data.edge_index == node, 1, 0).nonzero().squeeze(-1)[:,1]] for node in nodes]\n",
    "    edge_index = torch.concat(edge_mask, dim=1)\n",
    "\n",
    "    node_new_idx_map = {old_idx: new_idx for new_idx, old_idx in enumerate(edge_index.unique().tolist())}\n",
    "    for old_idx, new_idx in node_new_idx_map.items():\n",
    "        edge_index[edge_index == old_idx] = new_idx\n",
    "\n",
    "    all_old_nodes_idx = list(node_new_idx_map.keys())\n",
    "\n",
    "    return edge_index, all_old_nodes_idx\n",
    "\n",
    "# @TODO: change sample - incorrect choosing; mask must be extended to have only 64 ones and the others (for structure nodes) be 0\n",
    "\n",
    "def split(data: Data, sampler: Sampler, positive_label: int=0, negative_label: int=1, max_batches: int=100):\n",
    "    batch_graph = []\n",
    "\n",
    "    for idx, sample in enumerate(sampler):\n",
    "        edge_index, old_idx = select_nodes_from_central(data, sample)\n",
    "        train_mask = data.y[old_idx]\n",
    "        train_mask[train_mask == positive_label] = True \n",
    "        train_mask[(train_mask != positive_label) & (train_mask != negative_label)] = False\n",
    "        batch_graph += [\n",
    "            Data(x=data.x[old_idx,:],\n",
    "                 y=data.y[old_idx],\n",
    "                 edge_index=edge_index,\n",
    "                 train_mask = train_mask.to(bool))\n",
    "        ]\n",
    "        if max_batches != -1 and idx + 1 >= max_batches:\n",
    "            break\n",
    "        # print(\"------\")\n",
    "        # print(sample.shape[0])\n",
    "        # print(sum([s.item() in old_idx for s in sample])/sample.shape[0])\n",
    "        # print(data.y[old_idx].tolist())\n",
    "        # print(batch_graph[0].train_mask.tolist())\n",
    "\n",
    "    return batch_graph\n",
    "\n",
    "# get node idx (Y) -> make batch (Y) -> get ALL neibghours of idx (in n hops)\n",
    "# separate graph into subgraphs (where each subgraph = 64 nodes + neighbours) -> make batches ...\n",
    "\n",
    "# s = customGraphSampler(d, batch_size=6, positive_label=0, negative_label=1) # generate indices to form a batch\n",
    "# da = DataLoader(dataset=d.x, sampler=s, batch_size=5) # go over the entire dataset (here, list of node values) and create a batch from the sampled indices"
   ]
  },
  {
   "cell_type": "code",
   "execution_count": 28,
   "metadata": {},
   "outputs": [
    {
     "name": "stdout",
     "output_type": "stream",
     "text": [
      "----\n"
     ]
    },
    {
     "ename": "RuntimeError",
     "evalue": "Expected all tensors to be on the same device, but found at least two devices, cuda:0 and cpu! (when checking argument for argument tensors in method wrapper_CUDA_cat)",
     "output_type": "error",
     "traceback": [
      "\u001b[31m---------------------------------------------------------------------------\u001b[39m",
      "\u001b[31mRuntimeError\u001b[39m                              Traceback (most recent call last)",
      "\u001b[36mCell\u001b[39m\u001b[36m \u001b[39m\u001b[32mIn[28]\u001b[39m\u001b[32m, line 36\u001b[39m\n\u001b[32m     33\u001b[39m \u001b[38;5;66;03m# use full edge_index tensor\u001b[39;00m\n\u001b[32m     34\u001b[39m \u001b[38;5;66;03m# @TODO: test bidirectional edges\u001b[39;00m\n\u001b[32m     35\u001b[39m ex = torch.concat([s.edge_index, torch.as_tensor([[\u001b[32m999\u001b[39m, \u001b[32m139\u001b[39m],[\u001b[32m999\u001b[39m, \u001b[32m999\u001b[39m]], device=DEVICE)], dim=\u001b[32m1\u001b[39m)\n\u001b[32m---> \u001b[39m\u001b[32m36\u001b[39m a = \u001b[43mget_neighbours_hop\u001b[49m\u001b[43m(\u001b[49m\u001b[43mex\u001b[49m\u001b[43m,\u001b[49m\u001b[43m \u001b[49m\u001b[32;43m139\u001b[39;49m\u001b[43m,\u001b[49m\u001b[43m \u001b[49m\u001b[32;43m280\u001b[39;49m\u001b[43m,\u001b[49m\u001b[43m \u001b[49m\u001b[43mnum_hops\u001b[49m\u001b[43m=\u001b[49m\u001b[32;43m2\u001b[39;49m\u001b[43m)\u001b[49m\n\u001b[32m     37\u001b[39m a\n",
      "\u001b[36mCell\u001b[39m\u001b[36m \u001b[39m\u001b[32mIn[28]\u001b[39m\u001b[32m, line 29\u001b[39m, in \u001b[36mget_neighbours_hop\u001b[39m\u001b[34m(edge_index, source_node, target_node, num_hops)\u001b[39m\n\u001b[32m     27\u001b[39m     \u001b[38;5;28;01mif\u001b[39;00m aux_connected_node.shape[\u001b[32m1\u001b[39m] == \u001b[32m1\u001b[39m \u001b[38;5;129;01mand\u001b[39;00m target_node \u001b[38;5;129;01min\u001b[39;00m aux_connected_node:\n\u001b[32m     28\u001b[39m         \u001b[38;5;28;01mcontinue\u001b[39;00m\n\u001b[32m---> \u001b[39m\u001b[32m29\u001b[39m     connected_nodes_list = \u001b[43mtorch\u001b[49m\u001b[43m.\u001b[49m\u001b[43mconcat\u001b[49m\u001b[43m(\u001b[49m\u001b[43m[\u001b[49m\u001b[43mconnected_nodes_list\u001b[49m\u001b[43m,\u001b[49m\u001b[43m \u001b[49m\u001b[43mget_neighbours_hop\u001b[49m\u001b[43m(\u001b[49m\u001b[43medge_index\u001b[49m\u001b[43m,\u001b[49m\u001b[43m \u001b[49m\u001b[43mtarget_node\u001b[49m\u001b[43m,\u001b[49m\u001b[43m \u001b[49m\u001b[43mnode\u001b[49m\u001b[43m,\u001b[49m\u001b[43m \u001b[49m\u001b[43mnum_hops\u001b[49m\u001b[43m-\u001b[49m\u001b[32;43m1\u001b[39;49m\u001b[43m)\u001b[49m\u001b[43m]\u001b[49m\u001b[43m)\u001b[49m\n\u001b[32m     31\u001b[39m \u001b[38;5;28;01mreturn\u001b[39;00m connected_nodes_list\n",
      "\u001b[31mRuntimeError\u001b[39m: Expected all tensors to be on the same device, but found at least two devices, cuda:0 and cpu! (when checking argument for argument tensors in method wrapper_CUDA_cat)"
     ]
    }
   ],
   "source": [
    "def get_connected_nodes(edge_index: torch.Tensor, source_node, target_node):\n",
    "    current_direction_mask = torch.where((edge_index.T == torch.as_tensor([source_node, target_node], device=DEVICE)) | (edge_index.T == torch.as_tensor([target_node, source_node], device=DEVICE)), 1, 0).sum(1) != 2\n",
    "    edge_index_aux = edge_index[:,current_direction_mask]\n",
    "    edge_mask = torch.where(edge_index_aux == source_node, 1, 0).nonzero().squeeze(-1)[:,1]\n",
    "    connected_nodes = edge_index_aux[:,edge_mask]\n",
    "    # print(torch.where((edge_index == source_node) & (ed), 1, 0))\n",
    "\n",
    "    return connected_nodes.to(DEVICE)\n",
    "\n",
    "def get_neighbours_hop(edge_index: torch.Tensor, source_node: int, target_node: int, num_hops: int=2) -> list:\n",
    "    if num_hops <= 1:\n",
    "        return torch.Tensor()\n",
    "    \n",
    "    connected_nodes_list = torch.Tensor()\n",
    "    connected_nodes = get_connected_nodes(edge_index, source_node, target_node)\n",
    "    \n",
    "    unique_nodes = connected_nodes.unique().tolist()\n",
    "    unique_nodes.remove(source_node)\n",
    "\n",
    "    # print(connected_nodes)\n",
    "    print(\"----\")\n",
    "\n",
    "    connected_nodes_list = connected_nodes\n",
    "    for node in unique_nodes:\n",
    "        aux_connected_node = get_connected_nodes(edge_index, target_node, node)\n",
    "        # print(aux_connected_node)\n",
    "        if aux_connected_node.shape[1] == 1 and target_node in aux_connected_node:\n",
    "            continue\n",
    "        connected_nodes_list = torch.concat([connected_nodes_list, get_neighbours_hop(edge_index, target_node, node, num_hops-1)])\n",
    "\n",
    "    return connected_nodes_list\n",
    "\n",
    "# use full edge_index tensor\n",
    "# @TODO: test bidirectional edges\n",
    "ex = torch.concat([s.edge_index, torch.as_tensor([[999, 139],[999, 999]], device=DEVICE)], dim=1)\n",
    "a = get_neighbours_hop(ex, 139, 280, num_hops=2)\n",
    "a"
   ]
  },
  {
   "cell_type": "code",
   "execution_count": 5,
   "metadata": {},
   "outputs": [],
   "source": [
    "batch_sampler = customGraphSampler(train_data, batch_size=64, positive_label=0, negative_label=1) # generate indices to form a batch\n",
    "subgraphs = split(train_data, batch_sampler, positive_label=0, negative_label=1, max_batches=50)\n",
    "train_data_batches = DataLoader(subgraphs)"
   ]
  },
  {
   "cell_type": "code",
   "execution_count": 6,
   "metadata": {},
   "outputs": [],
   "source": [
    "batch_sampler = customGraphSampler(test_data, batch_size=64, positive_label=0, negative_label=1) # generate indices to form a batch\n",
    "subgraphs = split(test_data, batch_sampler, positive_label=0, negative_label=1, max_batches=50)\n",
    "test_data_batches = DataLoader(subgraphs)"
   ]
  },
  {
   "cell_type": "code",
   "execution_count": 7,
   "metadata": {},
   "outputs": [
    {
     "data": {
      "text/plain": [
       "tensor([1, 1, 0, 1, 1, 1, 1, 1, 1, 0, 1, 1, 0, 1, 0, 1, 1, 1, 1, 1, 1, 1, 1, 1,\n",
       "        0, 0, 0, 1, 1, 1, 0, 1, 1, 0, 1, 1, 1, 1, 0, 0, 1, 1, 1, 1, 1, 1, 1, 1,\n",
       "        1, 0, 1, 1, 1, 1, 0, 1, 1, 1, 1, 1, 1, 1, 0, 1, 1, 0, 0, 1, 1, 1, 1, 1,\n",
       "        1, 1, 0, 1, 1, 0, 0, 1, 0, 1, 1, 1, 1, 1, 1, 1, 1, 1, 1, 1, 1, 1, 1, 1,\n",
       "        1, 1, 1, 0, 1, 1, 1, 1, 0, 0, 0, 1, 1, 1, 1, 1, 1, 1, 1, 0, 0, 1, 1, 1,\n",
       "        1, 1, 1, 1, 0, 1, 0, 1, 0], device='cuda:0')"
      ]
     },
     "execution_count": 7,
     "metadata": {},
     "output_type": "execute_result"
    }
   ],
   "source": [
    "s = next(iter(train_data_batches))\n",
    "s.y[s.train_mask]"
   ]
  },
  {
   "cell_type": "markdown",
   "metadata": {},
   "source": [
    "# remove timestep attribute !!!!"
   ]
  },
  {
   "cell_type": "code",
   "execution_count": 8,
   "metadata": {},
   "outputs": [],
   "source": [
    "# from collections import Counter\n",
    "\n",
    "# sample = next(iter(loader))\n",
    "# (sample.y.tolist())\n",
    "\n",
    "# Counter(sample.y.tolist())"
   ]
  },
  {
   "cell_type": "code",
   "execution_count": 9,
   "metadata": {},
   "outputs": [],
   "source": [
    "# from torch_geometric.datasets import elliptic\n",
    "\n",
    "# da = elliptic.EllipticBitcoinDataset(\"./\").data.to(\"cuda\")"
   ]
  },
  {
   "cell_type": "code",
   "execution_count": 10,
   "metadata": {},
   "outputs": [],
   "source": [
    "# loader = split_into_batches(da, num_batches=100000, num_neighbours=100, num_hops=2)"
   ]
  },
  {
   "cell_type": "code",
   "execution_count": 11,
   "metadata": {},
   "outputs": [],
   "source": [
    "# imbalanced dataset -> try to sample in a batch 64 central nodes - 32 class 0, 32 class 1\n",
    "# use 2 neighbourloaders -> one for central node with custom sampling, one with random for neighbours (using node idxs)"
   ]
  },
  {
   "cell_type": "code",
   "execution_count": 116,
   "metadata": {},
   "outputs": [],
   "source": [
    "import torch.nn.functional as F\n",
    "from torch_geometric.nn import SAGEConv\n",
    "\n",
    "class SAGE(torch.nn.Module):\n",
    "    def __init__(self, in_dim, out_dim, **layer_paras):\n",
    "        super().__init__()\n",
    "\n",
    "        self.num_layers = layer_paras.pop(\"num_layers\",1)\n",
    "        self.hidden_dim = layer_paras.pop(\"hidden_channels\")\n",
    "        self.cached = layer_paras.pop(\"cached\", True)\n",
    "\n",
    "        self.dropout = layer_paras.pop(\"dropout\", 0.0)\n",
    "\n",
    "        self.conv_layers = []\n",
    "\n",
    "        self.conv_layers += [\n",
    "            SAGEConv(in_dim, self.hidden_dim) # input layer; cached=True => for transductive learning\n",
    "        ]\n",
    "        for _ in range(self.num_layers-1):\n",
    "            self.conv_layers += [\n",
    "                SAGEConv(self.hidden_dim, self.hidden_dim)\n",
    "            ]\n",
    "        self.conv_layers += [\n",
    "            SAGEConv(self.hidden_dim, out_dim) # output layer; cached=True => for transductive learning\n",
    "        ]\n",
    "\n",
    "        self.conv_layers = torch.nn.ParameterList(self.conv_layers)\n",
    "\n",
    "    def forward(self, x, edge_index):\n",
    "        for conv in self.conv_layers[:-1]:\n",
    "            x = conv(x, edge_index)\n",
    "            x = F.relu(x)\n",
    "            x = F.dropout(x, training=self.training, p=self.dropout)\n",
    "        x = self.conv_layers[-1](x, edge_index)\n",
    "\n",
    "        return F.log_softmax(x, dim=1)"
   ]
  },
  {
   "cell_type": "code",
   "execution_count": 120,
   "metadata": {},
   "outputs": [
    {
     "data": {
      "text/plain": [
       "SAGE(\n",
       "  (conv_layers): ParameterList(\n",
       "      (0): Object of type: SAGEConv\n",
       "      (1): Object of type: SAGEConv\n",
       "    (0): SAGEConv(55, 55, aggr=mean)\n",
       "    (1): SAGEConv(55, 2, aggr=mean)\n",
       "  )\n",
       ")"
      ]
     },
     "execution_count": 120,
     "metadata": {},
     "output_type": "execute_result"
    }
   ],
   "source": [
    "paras = {\n",
    "    'lr':0.01,\n",
    "    'num_layers':1,\n",
    "    'hidden_channels':55,\n",
    "    'dropout':0.4,\n",
    "    'batchnorm': False,\n",
    "    'l2':5e-7,\n",
    "    'cached': True,\n",
    "}\n",
    "model = SAGE(in_dim=55, out_dim=2, **paras).to(DEVICE)\n",
    "model"
   ]
  },
  {
   "cell_type": "code",
   "execution_count": 121,
   "metadata": {},
   "outputs": [
    {
     "name": "stderr",
     "output_type": "stream",
     "text": [
      "Epoch: 1/1; Batch: 575; Loss=368.8005; Loss-Validation=0.0000: 100%|██████████| 1/1 [00:01<00:00,  1.51s/it]\n"
     ]
    }
   ],
   "source": [
    "from tqdm import tqdm\n",
    "\n",
    "def train(batches, model, optimizer, epoch_num=1):\n",
    "    loss_all = []\n",
    "    loss_valid_all = []\n",
    "\n",
    "    model.train()\n",
    "    iterator = tqdm(range(epoch_num), desc=\"\")\n",
    "    for epoch in iterator:\n",
    "        running_loss = 0\n",
    "        valid_loss = 0\n",
    "        for idx, batch in enumerate(batches):\n",
    "            out = model(batch.x, batch.edge_index)\n",
    "\n",
    "            loss = F.cross_entropy(out[batch.train_mask], batch.y[batch.train_mask])\n",
    "            running_loss += loss.item()\n",
    "\n",
    "            optimizer.zero_grad()\n",
    "            loss.backward()\n",
    "            optimizer.step()\n",
    "\n",
    "            iterator.set_description(f\"Epoch: {epoch+1}/{epoch_num}; Batch: {idx+1}/{len(subgraphs)}; Loss: {running_loss/(idx+1):0.4f}\")\n",
    "\n",
    "        # loss_valid = F.cross_entropy(out[batch.val_mask], batch.y[batch.val_mask])\n",
    "        # running_valid_loss += loss_valid.item()    \n",
    "        # iterator.set_description(f\"Epoch: {epoch+1}/{epoch_num}; Batch: {idx+1}/{data.x.shape[0]//batch_size}; Loss: {running_loss/(idx+1):0.4f}\")\n",
    "        # @TODO: add validation round to monitor performance\n",
    "        # loss_all += [running_loss/(data.x.shape[0]//batch_size)]\n",
    "        # loss_valid_all += [running_valid_loss/(data.x.shape[0]//batch_size)]\n",
    "\n",
    "        loss_all += [running_loss/(idx+1)]\n",
    "        loss_valid_all += [valid_loss]\n",
    "\n",
    "        iterator.set_description(f\"Epoch: {epoch+1}/{epoch_num}; Batch: {idx}; Loss={loss_all[-1]:.4f}; Loss-Validation={loss_valid_all[-1]:.4f}\")\n",
    "\n",
    "    return loss_all, loss_valid_all\n",
    "\n",
    "optimizer = torch.optim.Adam(model.parameters(), lr=paras[\"lr\"], weight_decay=paras[\"l2\"])\n",
    "\n",
    "loss_all, loss_valid_all = train(train_data_batches, model, optimizer, epoch_num=1)\n"
   ]
  },
  {
   "cell_type": "code",
   "execution_count": 104,
   "metadata": {},
   "outputs": [
    {
     "data": {
      "text/plain": [
       "[<matplotlib.lines.Line2D at 0x73956b375dc0>]"
      ]
     },
     "execution_count": 104,
     "metadata": {},
     "output_type": "execute_result"
    },
    {
     "data": {
      "image/png": "[encoded data removed]",
      "text/plain": [
       "<Figure size 640x480 with 1 Axes>"
      ]
     },
     "metadata": {},
     "output_type": "display_data"
    }
   ],
   "source": [
    "import matplotlib.pyplot as plt\n",
    "\n",
    "plt.plot(loss_all)\n",
    "# plt.plot(loss_valid_all)"
   ]
  },
  {
   "cell_type": "code",
   "execution_count": 122,
   "metadata": {},
   "outputs": [
    {
     "name": "stdout",
     "output_type": "stream",
     "text": [
      "Accuracy=0.7050285935401917\n",
      "Precision=inf\n",
      "Recall=1.0\n",
      "F1=nan\n",
      "Auroc=nan\n"
     ]
    }
   ],
   "source": [
    "from torch_geometric.explain.metric import groundtruth_metrics\n",
    "\n",
    "def compute_cm(orig_labels, pred_labels, positive_label, negative_label):\n",
    "    tp = ((orig_labels == pred_labels) & (orig_labels == positive_label)).sum()\n",
    "    tn = ((orig_labels == pred_labels) & (orig_labels == negative_label)).sum()\n",
    "    fn = ((orig_labels != pred_labels) & (orig_labels == positive_label)).sum()\n",
    "    fp = ((orig_labels != pred_labels) & (orig_labels == negative_label)).sum()\n",
    "\n",
    "    return torch.as_tensor([[tp, fn], [fp, tn]])\n",
    "\n",
    "def compute_accuracy(cm: torch.Tensor):\n",
    "    return (cm.diagonal().sum() / cm.sum()).item()\n",
    "\n",
    "def compute_precision(cm):\n",
    "    return (cm[0].sum() / cm[:,0].sum()).item()\n",
    "\n",
    "def compute_recall(cm):\n",
    "    return (cm[0].sum() / cm[0,:].sum()).item()\n",
    "\n",
    "def compute_f1(cm, precision=None, recall=None):\n",
    "    if not (precision and recall):\n",
    "        precision = compute_precision(cm)\n",
    "        recall = compute_precision(cm)\n",
    "\n",
    "    return (2*precision*recall)/(precision+recall)\n",
    "\n",
    "def compute_metrics(cm):\n",
    "    metrics = [compute_accuracy, compute_precision, compute_recall, compute_f1]\n",
    "    results = {}\n",
    "    for metric in metrics:\n",
    "        results[metric.__name__.split(\"_\")[-1]] = metric(cm)\n",
    "\n",
    "    return results\n",
    "\n",
    "avg_scores = []\n",
    "model.eval()\n",
    "\n",
    "acc = []\n",
    "metrics = {\n",
    "    \"accuracy\": [],\n",
    "    \"precision\": [],\n",
    "    \"recall\": [],\n",
    "    \"f1\": [],\n",
    "    \"auroc\": [],\n",
    "}\n",
    "positive_label = 0\n",
    "negative_label = 1\n",
    "\n",
    "for batch in test_data_batches:\n",
    "    pred = model(batch.x, batch.edge_index)\n",
    "    pred_labels = pred.argmax(dim=1)[batch.train_mask]\n",
    "    orig_labels = batch.y[batch.train_mask]\n",
    "\n",
    "    results = compute_metrics(compute_cm(orig_labels, pred_labels, positive_label=positive_label, negative_label=negative_label))\n",
    "    for metric, score in results.items():\n",
    "        metrics[metric] += [score]\n",
    "\n",
    "    # acc += [(orig_labels == pred_labels).sum()/orig_labels.shape[0]]\n",
    "\n",
    "\n",
    "    # scores = groundtruth_metrics(\n",
    "    #     pred_mask=pred[batch.train_mask].max(dim=1)[1],\n",
    "    #     target_mask=batch.y[batch.train_mask],\n",
    "    #     threshold=0.5,\n",
    "    #     metrics=[\"accuracy\", \"precision\", \"recall\", \"f1_score\"]\n",
    "    # )\n",
    "    # avg_scores += [scores]\n",
    "\n",
    "for metric, scores in metrics.items():\n",
    "    print(f\"{metric.title()}={torch.mean(torch.as_tensor(scores))}\")\n",
    "# import numpy as np\n",
    "# print(np.mean(acc))\n",
    "\n",
    "# np.asarray(avg_scores).mean(axis=0)"
   ]
  },
  {
   "cell_type": "code",
   "execution_count": 123,
   "metadata": {},
   "outputs": [
    {
     "data": {
      "text/plain": [
       "tensor([[ 0, 36],\n",
       "        [ 0, 77]])"
      ]
     },
     "execution_count": 123,
     "metadata": {},
     "output_type": "execute_result"
    }
   ],
   "source": [
    "compute_cm(orig_labels, pred_labels, positive_label=positive_label, negative_label=negative_label)"
   ]
  },
  {
   "cell_type": "code",
   "execution_count": null,
   "metadata": {},
   "outputs": [],
   "source": [
    "# 0.70515263\n",
    "# array([0.70515261, 0.70515261, 1.        , 0.82589429])"
   ]
  },
  {
   "cell_type": "code",
   "execution_count": null,
   "metadata": {},
   "outputs": [],
   "source": [
    "from torch_geometric.explain.metric import groundtruth_metrics\n",
    "\n",
    "avg_scores = []\n",
    "model.eval()\n",
    "skips = 0\n",
    "for batch in tqdm(loader, total=data.x.shape[0]//batch_size):\n",
    "    if batch.test_mask.sum() <= 0:\n",
    "        skips += 1\n",
    "        continue\n",
    "    pred = model(batch.x, batch.edge_index).argmax(dim=1)\n",
    "\n",
    "    scores = groundtruth_metrics(\n",
    "        pred_mask=pred[batch.test_mask],\n",
    "        target_mask=batch.y[batch.test_mask],\n",
    "        threshold=0.5,\n",
    "        metrics=[\"accuracy\", \"precision\", \"recall\", \"f1_score\"]\n",
    "    )\n",
    "    avg_scores += [scores]\n",
    "\n",
    "import numpy as np\n",
    "\n",
    "print(f\"Skips = {skips}\")\n",
    "np.asarray(avg_scores).mean(axis=0)"
   ]
  }
 ],
 "metadata": {
  "kernelspec": {
   "display_name": "smcs",
   "language": "python",
   "name": "python3"
  },
  "language_info": {
   "codemirror_mode": {
    "name": "ipython",
    "version": 3
   },
   "file_extension": ".py",
   "mimetype": "text/x-python",
   "name": "python",
   "nbconvert_exporter": "python",
   "pygments_lexer": "ipython3",
   "version": "3.12.9"
  }
 },
 "nbformat": 4,
 "nbformat_minor": 2
}
