{
 "cells": [
  {
   "cell_type": "code",
   "execution_count": null,
   "metadata": {},
   "outputs": [],
   "source": [
    "from data_processing import *\n",
    "\n",
    "DEVICE = torch.device(\"cuda:0\" if torch.cuda.is_available() else \"cpu\")\n",
    "# DEVICE = torch.device(\"cpu\")\n",
    "train_data, OUT_DIM = load_create_ellipticpp(timestep=(1,32))\n",
    "train_data = train_data.to(DEVICE)\n",
    "valid_data, OUT_DIM = load_create_ellipticpp(timestep=(33,37))\n",
    "valid_data = valid_data.to(DEVICE)\n",
    "test_data, OUT_DIM = load_create_ellipticpp(timestep=(38,42))\n",
    "test_data = test_data.to(DEVICE)"
   ]
  },
  {
   "cell_type": "code",
   "execution_count": 6,
   "metadata": {},
   "outputs": [],
   "source": [
    "# @ TODO: NEED TO CONSIDER TIME EDGE ATTRIBUTE!!!!\n",
    "# from data_processing import *\n",
    "\n",
    "# # DEVICE = torch.device(\"cuda:0\" if torch.cuda.is_available() else \"cpu\")\n",
    "# DEVICE = torch.device(\"cpu\")\n",
    "\n",
    "# train_data, OUT_DIM = load_dgraphfin()\n",
    "# train_data = train_data.to(DEVICE)"
   ]
  },
  {
   "cell_type": "code",
   "execution_count": 7,
   "metadata": {},
   "outputs": [],
   "source": [
    "# maybe remvoe mask and cosnider temporal split for elliptic++\n",
    "# dataloader (from pt) - implement sampler here -> neighourloader\n",
    "# summary stats on avg degree of a node when considering ([-1,-1] neighbourhoods)\n",
    "# graphsage/gat with full neighbourhood, 75%/50%/25% reduction in neighbourhood"
   ]
  },
  {
   "cell_type": "code",
   "execution_count": 9,
   "metadata": {},
   "outputs": [],
   "source": [
    "from batching_script import *\n",
    "\n",
    "train_batches = customBatching(train_data, positive_label=1, negative_label=0, neighbourhood_sizes=[10,5], batch_size=64)\n",
    "valid_batches = customBatching(valid_data, positive_label=1, negative_label=0, neighbourhood_sizes=[-1] * 2, batch_size=64)\n",
    "test_batches = customBatching(test_data, positive_label=1, negative_label=0, neighbourhood_sizes=[-1] * 2, batch_size=64)"
   ]
  },
  {
   "cell_type": "markdown",
   "metadata": {},
   "source": [
    "# remove timestep attribute !!!!"
   ]
  },
  {
   "cell_type": "code",
   "execution_count": 10,
   "metadata": {},
   "outputs": [],
   "source": [
    "import torch.nn.functional as F\n",
    "from torch_geometric.nn import SAGEConv, GCNConv, GATConv\n",
    "\n",
    "class SAGE(torch.nn.Module):\n",
    "    def __init__(self, in_dim, out_dim, **layer_paras):\n",
    "        super().__init__()\n",
    "\n",
    "        self.num_layers = layer_paras.pop(\"num_layers\",1)\n",
    "        self.hidden_dim = layer_paras.pop(\"hidden_channels\")\n",
    "        self.cached = layer_paras.pop(\"cached\", True)\n",
    "\n",
    "        self.dropout = layer_paras.pop(\"dropout\", 0.0)\n",
    "\n",
    "        self.conv_layers = []\n",
    "\n",
    "        ###### BAD ???????\n",
    "        # self.conv_layers += [\n",
    "        #     SAGEConv(in_dim, self.hidden_dim) # input layer; cached=True => for transductive learning\n",
    "        # ]\n",
    "        # for _ in range(self.num_layers-1):\n",
    "        #     self.conv_layers += [\n",
    "        #         SAGEConv(self.hidden_dim, self.hidden_dim)\n",
    "        #     ]\n",
    "        # self.conv_layers += [\n",
    "        #     SAGEConv(self.hidden_dim, out_dim) # output layer; cached=True => for transductive learning\n",
    "        # ]\n",
    "        ###### BAD ???????\n",
    "\n",
    "        ##### SAGE-ATTN\n",
    "        self.conv_layers += [SAGEConv(in_dim, self.hidden_dim)]\n",
    "        self.conv_layers += [GATConv(self.hidden_dim, out_dim, heads=3)]\n",
    "\n",
    "        ##### SAGE 1-layer\n",
    "        # self.conv_layers += [SAGEConv(in_dim, out_dim)]\n",
    "\n",
    "        ##### GAT \n",
    "        # self.conv_layers += [GATConv(in_dim, out_dim)]\n",
    "\n",
    "        ##### GCN\n",
    "        # self.conv_layers += [GCNConv(in_dim, out_dim)]\n",
    "\n",
    "        \n",
    "        self.conv_layers = torch.nn.ParameterList(self.conv_layers)\n",
    "\n",
    "    def forward(self, x, edge_index):\n",
    "        for conv in self.conv_layers[:-1]:\n",
    "            x = conv(x, edge_index)\n",
    "            x = F.relu(x)\n",
    "            x = F.dropout(x, training=self.training, p=self.dropout)\n",
    "        x = self.conv_layers[-1](x, edge_index)\n",
    "\n",
    "        return x"
   ]
  },
  {
   "cell_type": "code",
   "execution_count": null,
   "metadata": {},
   "outputs": [
    {
     "name": "stdout",
     "output_type": "stream",
     "text": [
      "SAGE(\n",
      "  (conv_layers): ParameterList(\n",
      "      (0): Object of type: SAGEConv\n",
      "      (1): Object of type: GATConv\n",
      "    (0): SAGEConv(55, 55, aggr=mean)\n",
      "    (1): GATConv(55, 3, heads=3)\n",
      "  )\n",
      ")\n"
     ]
    }
   ],
   "source": [
    "paras = {\n",
    "    'lr':0.005,\n",
    "    'num_layers':2,\n",
    "    'hidden_channels':55,\n",
    "    'dropout':0.4,\n",
    "    'batchnorm': False,\n",
    "    'l2':5e-3,\n",
    "    'cached': True,\n",
    "}\n",
    "\n",
    "### ablation/sensitivity study - look at sampling factor\n",
    "## do study on valid data - then best config on test data\n",
    "## 10 training runs and avg\n",
    "\n",
    "# @TODO: REMOVE UNKNOWN CLASS !!!!\n",
    "model = SAGE(in_dim=train_data.x.shape[1], out_dim=3, **paras).to(DEVICE)\n",
    "optimizer = torch.optim.Adam(model.parameters(), lr=paras[\"lr\"], weight_decay=paras[\"l2\"])\n",
    "print(model)"
   ]
  },
  {
   "cell_type": "code",
   "execution_count": null,
   "metadata": {},
   "outputs": [
    {
     "name": "stderr",
     "output_type": "stream",
     "text": [
      "Epoch: 3/3; Batch: 576/576; Loss=0.0000; Loss-Validation=0.0000: 100%|██████████| 3/3 [00:31<00:00, 10.45s/it]\n"
     ]
    }
   ],
   "source": [
    "from tqdm import tqdm\n",
    "\n",
    "def train(batches, model, optimizer, epoch_num=1):\n",
    "    loss_all = []\n",
    "    loss_valid_all = []\n",
    "\n",
    "    model.train()\n",
    "    iterator = tqdm(range(epoch_num), desc=\"\")\n",
    "    for epoch in iterator:\n",
    "        running_loss = 0\n",
    "        valid_loss = 0\n",
    "        for idx, batch in enumerate(batches):\n",
    "            out = model(batch.x, batch.edge_index)\n",
    "\n",
    "            loss = F.cross_entropy(out[batch.train_mask], batch.y[batch.train_mask])\n",
    "\n",
    "            optimizer.zero_grad()\n",
    "            loss.backward()\n",
    "            optimizer.step()\n",
    "\n",
    "            ### @TODO: early stopping criterion + patience\n",
    "\n",
    "            # iterator.set_description(f\"Epoch: {epoch+1}/{epoch_num}; Batch: {idx+1}/{len(batches)}; Loss: {loss.item()/(idx+1):0.4f}\")\n",
    "\n",
    "        # loss_valid = F.cross_entropy(out[batch.val_mask], batch.y[batch.val_mask])\n",
    "        # running_valid_loss += loss_valid.item()    \n",
    "        # iterator.set_description(f\"Epoch: {epoch+1}/{epoch_num}; Batch: {idx+1}/{data.x.shape[0]//batch_size}; Loss: {running_loss/(idx+1):0.4f}\")\n",
    "        # @TODO: add validation round to monitor performance\n",
    "        # loss_all += [running_loss/(data.x.shape[0]//batch_size)]\n",
    "        # loss_valid_all += [running_valid_loss/(data.x.shape[0]//batch_size)]\n",
    "\n",
    "        loss_all += [running_loss/(idx+1)]\n",
    "        loss_valid_all += [valid_loss]\n",
    "\n",
    "        iterator.set_description(f\"Epoch: {epoch+1}/{epoch_num}; Batch: {idx+1}/{len(batches)}; Loss={loss_all[-1]:.4f}; Loss-Validation={loss_valid_all[-1]:.4f}\")\n",
    "\n",
    "    return loss_all, loss_valid_all\n",
    "\n",
    "# 1-33 33-37 - train on first then test on second; at the end, test on testing set after training on all 1-37\n",
    "\n",
    "loss_all, loss_valid_all = train(train_batches, model, optimizer, epoch_num=3)"
   ]
  },
  {
   "cell_type": "code",
   "execution_count": 13,
   "metadata": {},
   "outputs": [
    {
     "data": {
      "text/plain": [
       "[<matplotlib.lines.Line2D at 0x71a716564470>]"
      ]
     },
     "execution_count": 13,
     "metadata": {},
     "output_type": "execute_result"
    },
    {
     "data": {
      "image/png": "[encoded data removed]",
      "text/plain": [
       "<Figure size 640x480 with 1 Axes>"
      ]
     },
     "metadata": {},
     "output_type": "display_data"
    }
   ],
   "source": [
    "import matplotlib.pyplot as plt\n",
    "\n",
    "plt.plot(loss_all)\n",
    "# plt.plot(loss_valid_all)"
   ]
  },
  {
   "cell_type": "code",
   "execution_count": 14,
   "metadata": {},
   "outputs": [
    {
     "name": "stderr",
     "output_type": "stream",
     "text": [
      "100%|██████████| 90/90 [00:01<00:00, 67.31it/s]"
     ]
    },
    {
     "name": "stdout",
     "output_type": "stream",
     "text": [
      "Confusion Matrix [[1108.0, 5728.0], [2795.0, 51659.0]]\n",
      "Accuracy=0.7957683205604553\n",
      "Precision=0.30939480662345886\n",
      "Recall=0.19766461849212646\n",
      "F1=0.30939480662345886\n",
      "Auroc=nan\n"
     ]
    },
    {
     "name": "stderr",
     "output_type": "stream",
     "text": [
      "\n"
     ]
    }
   ],
   "source": [
    "from torch_geometric.explain.metric import groundtruth_metrics\n",
    "from sklearn.metrics import confusion_matrix\n",
    "import numpy as np\n",
    "\n",
    "def compute_cm(orig_labels, pred_labels, positive_label, negative_label):\n",
    "    tp = ((orig_labels == pred_labels) & (orig_labels == positive_label)).sum()\n",
    "    tn = ((orig_labels == pred_labels) & (orig_labels == negative_label)).sum()\n",
    "    fn = ((orig_labels != pred_labels) & (orig_labels == positive_label)).sum()\n",
    "    fp = ((orig_labels != pred_labels) & (orig_labels == negative_label)).sum()\n",
    "\n",
    "    return torch.as_tensor([[tp, fn], [fp, tn]])\n",
    "\n",
    "def compute_accuracy(cm: torch.Tensor):\n",
    "    return (cm.diagonal().sum() / cm.sum()).item() if cm.sum().item() != 0 else 0\n",
    "\n",
    "def compute_precision(cm):\n",
    "    score = (cm[0,0] / cm[:,0].sum()) \n",
    "    return score.item() if not torch.isnan(score) else 0\n",
    "\n",
    "def compute_recall(cm):\n",
    "    score = (cm[0,0] / cm[0,:].sum()) \n",
    "    return score.item() if not torch.isnan(score) else 0\n",
    "\n",
    "def compute_f1(cm, precision=None, recall=None):\n",
    "    if not (precision and recall):\n",
    "        precision = compute_precision(cm)\n",
    "        recall = compute_precision(cm)\n",
    "\n",
    "    return (2*precision*recall)/(precision+recall) if precision + recall > 0 else 0\n",
    "\n",
    "def compute_metrics(cm):\n",
    "    metrics = [compute_accuracy, compute_precision, compute_recall, compute_f1]\n",
    "    results = {}\n",
    "    for metric in metrics:\n",
    "        results[metric.__name__.split(\"_\")[-1]] = metric(cm)\n",
    "\n",
    "    return results\n",
    "\n",
    "avg_scores = []\n",
    "model.eval()\n",
    "\n",
    "acc = []\n",
    "metrics = {\n",
    "    \"accuracy\": [],\n",
    "    \"precision\": [],\n",
    "    \"recall\": [],\n",
    "    \"f1\": [],\n",
    "    \"auroc\": [],\n",
    "}\n",
    "positive_label = 1\n",
    "negative_label = 0\n",
    "cm_total = torch.zeros((2,2))\n",
    "cm_total_sk = np.zeros((2,2))\n",
    "\n",
    "\n",
    "for batch in tqdm(test_batches):\n",
    "    pred = model(batch.x, batch.edge_index)\n",
    "\n",
    "    pred_labels = pred.argmax(dim=1)\n",
    "    orig_labels = batch.y\n",
    "    cm = compute_cm(orig_labels, pred_labels, positive_label=positive_label, negative_label=negative_label)\n",
    "\n",
    "    results = compute_metrics(cm)\n",
    "    cm_total += cm\n",
    "\n",
    "    for metric, score in results.items():\n",
    "        metrics[metric] += [score]\n",
    "\n",
    "    acc += [(orig_labels == pred_labels).sum()/orig_labels.shape[0]]\n",
    "\n",
    "    scores = groundtruth_metrics(\n",
    "        pred_mask=pred[batch.train_mask].max(dim=1)[1],\n",
    "        target_mask=batch.y[batch.train_mask],\n",
    "        threshold=0.5,\n",
    "        metrics=[\"accuracy\", \"precision\", \"recall\", \"f1_score\"]\n",
    "    )\n",
    "    avg_scores += [scores]\n",
    "\n",
    "print(\"Confusion Matrix\", cm_total.tolist())\n",
    "for metric, scores in metrics.items():\n",
    "    print(f\"{metric.title()}={torch.mean(torch.as_tensor(scores, dtype=torch.float32))}\")\n",
    "import numpy as np\n",
    "# print(np.mean(acc))\n",
    "\n",
    "# np.asarray(avg_scores).mean(axis=0)"
   ]
  },
  {
   "cell_type": "code",
   "execution_count": null,
   "metadata": {},
   "outputs": [],
   "source": [
    "########## METRICS LIBRARY\n",
    "# accuracy | precision | recall | F1\n",
    "\n",
    "###### PURE 1-LAYER SAGE\n",
    "# array([0.70954861, 0.70012975, 0.74131944, 0.71829656])\n",
    "\n",
    "###### PURE 1-LAYER GAT\n",
    "# array([0.53819444, 0.52934275, 0.71319444, 0.60629397])\n",
    "\n",
    "##### SAGE-ATTN\n",
    "# array([0.503125  , 0.50161935, 0.98715278, 0.66517364])\n",
    "\n",
    "###### PURE 1-LAYER GCN\n",
    "# array([0.6640625 , 0.63122737, 0.80381944, 0.70562114])\n"
   ]
  },
  {
   "cell_type": "code",
   "execution_count": 71,
   "metadata": {},
   "outputs": [],
   "source": [
    "##### PURE 1-LAYER SAGECONV\n",
    "# Confusion Matrix [[6281.0, 555.0], [47872.0, 6582.0]]\n",
    "# Accuracy=0.26841437816619873\n",
    "# Precision=0.18005317449569702\n",
    "# Recall=0.9099577069282532\n",
    "# F1=0.18005317449569702\n",
    "# Auroc=nan\n",
    "\n",
    "##### PURE 1-LAYER GAT\n",
    "# Confusion Matrix [[6047.0, 789.0], [34203.0, 20251.0]]\n",
    "# Accuracy=0.4496999979019165\n",
    "# Precision=0.21606987714767456\n",
    "# Recall=0.884824812412262\n",
    "# F1=0.21606987714767456\n",
    "# Auroc=nan\n",
    "\n",
    "##### SAGE-ATTN\n",
    "# Confusion Matrix [[1196.0, 5640.0], [18660.0, 35794.0]]\n",
    "# Accuracy=0.5885034203529358\n",
    "# Precision=0.12076546251773834\n",
    "# Recall=0.19161765277385712\n",
    "# F1=0.12076546251773834\n",
    "# Auroc=nan\n",
    "\n",
    "###### PURE 1-LAYER GCN\n",
    "# Confusion Matrix [[5111.0, 1725.0], [17802.0, 36652.0]]\n",
    "# Accuracy=0.6739125847816467\n",
    "# Precision=0.29481324553489685\n",
    "# Recall=0.7564181685447693\n",
    "# F1=0.29481324553489685\n",
    "# Auroc=nan\n"
   ]
  }
 ],
 "metadata": {
  "kernelspec": {
   "display_name": "smcs",
   "language": "python",
   "name": "python3"
  },
  "language_info": {
   "codemirror_mode": {
    "name": "ipython",
    "version": 3
   },
   "file_extension": ".py",
   "mimetype": "text/x-python",
   "name": "python",
   "nbconvert_exporter": "python",
   "pygments_lexer": "ipython3",
   "version": "3.12.9"
  }
 },
 "nbformat": 4,
 "nbformat_minor": 4
}
