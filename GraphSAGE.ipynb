{
 "cells": [
  {
   "cell_type": "code",
   "execution_count": 2,
   "id": "9a11ed51-d8c2-4d60-9a95-748e33b22dbb",
   "metadata": {},
   "outputs": [],
   "source": [
    "import pandas as pd\n",
    "import numpy as np\n",
    "import gc\n",
    "import torch\n",
    "import torch.nn.functional as F\n",
    "from torch_geometric.nn import SAGEConv\n",
    "from torch_geometric.data import Data\n",
    "from torch_geometric.loader import NeighborLoader\n",
    "from torch.optim import Adam\n",
    "import networkx as nx\n",
    "\n",
    "device = torch.device(\"cuda:0\" if torch.cuda.is_available() else \"cpu\")"
   ]
  },
  {
   "cell_type": "markdown",
   "id": "f9b426de-50f7-445b-9b28-fb192c0e2bbc",
   "metadata": {},
   "source": [
    "### GraphSAGE load"
   ]
  },
  {
   "cell_type": "code",
   "execution_count": 2,
   "id": "08d5c2a5-ecee-4893-953c-fc1d5763caff",
   "metadata": {},
   "outputs": [
    {
     "name": "stdout",
     "output_type": "stream",
     "text": [
      "Data(x=[202804, 183], edge_index=[2, 234355], y=[202804])\n"
     ]
    }
   ],
   "source": [
    "#load data\n",
    "classes = pd.read_csv('Elliptic++Dataset/txs_classes.csv')\n",
    "features = pd.read_csv('Elliptic++Dataset/txs_features.csv')\n",
    "edges = pd.read_csv('Elliptic++Dataset/txs_edgelist.csv')\n",
    "\n",
    "#Convert classes to numerical format\n",
    "classes[\"class\"] -= 1\n",
    "features[\"class\"] = classes[\"class\"]\n",
    "# class_map = {\"unknown\": 2, \"licit\": 0, \"illicit\": 1}\n",
    "# classes[\"class\"] = classes[\"class\"].map(class_map)\n",
    "\n",
    "# #extract IDs, features and labels\n",
    "features = features.dropna()\n",
    "x = torch.as_tensor(features.iloc[:, 1:].drop(\"class\", axis=1).values.astype(np.float32))\n",
    "y = torch.as_tensor(features[\"class\"].values)\n",
    "\n",
    "#edges to tensor\n",
    "edge_index = torch.as_tensor(edges.values.T)\n",
    "\n",
    "#create data object\n",
    "data = Data(x=x, edge_index=edge_index, y=y).to(device)\n",
    "print(data)"
   ]
  },
  {
   "cell_type": "code",
   "execution_count": 6,
   "id": "4fd2a4af-8435-4301-ad5a-51ad3c21fa32",
   "metadata": {},
   "outputs": [],
   "source": [
    "class GraphSAGE(torch.nn.Module):\n",
    "  def __init__(self, in_channels, hidden_channels, out_channels):\n",
    "    super(GraphSAGE, self).__init__()\n",
    "    self.conv1 = SAGEConv(in_channels, hidden_channels)\n",
    "    self.conv2 = SAGEConv(hidden_channels, out_channels)\n",
    "\n",
    "  def forward(self, x, edge_index):\n",
    "    x = self.conv1(x, edge_index)\n",
    "    x = F.relu(x)\n",
    "    x = self.conv2(x, edge_index)\n",
    "    return F.log_softmax(x, dim=1)"
   ]
  },
  {
   "cell_type": "markdown",
   "id": "298ffd87-5d2b-4b50-a33b-68d4aceac1c5",
   "metadata": {},
   "source": [
    "### Setup GraphSAGE for Elliptic"
   ]
  },
  {
   "cell_type": "code",
   "execution_count": 4,
   "id": "214db9f9",
   "metadata": {},
   "outputs": [],
   "source": [
    "from data_processing import *\n",
    "\n",
    "data, OUT_DIM = load_create_ellipticpp(timestep=(1,5))"
   ]
  },
  {
   "cell_type": "code",
   "execution_count": 12,
   "id": "6f59218e-b488-429c-8979-aff698169591",
   "metadata": {},
   "outputs": [
    {
     "name": "stderr",
     "output_type": "stream",
     "text": [
      "Batch 190189:   0%|          | 0/190 [00:00<?, ?it/s]\n",
      "  5%|▌         | 1/20 [00:00<00:15,  1.21it/s]"
     ]
    },
    {
     "name": "stdout",
     "output_type": "stream",
     "text": [
      "Epoch 1/20 - Loss: 101540.5549\n"
     ]
    },
    {
     "name": "stderr",
     "output_type": "stream",
     "text": [
      "Batch 190189:   0%|          | 0/190 [00:00<?, ?it/s]\n",
      " 10%|█         | 2/20 [00:01<00:15,  1.19it/s]"
     ]
    },
    {
     "name": "stdout",
     "output_type": "stream",
     "text": [
      "Epoch 2/20 - Loss: 48146.0492\n"
     ]
    },
    {
     "name": "stderr",
     "output_type": "stream",
     "text": [
      "Batch 190189:   0%|          | 0/190 [00:00<?, ?it/s]\n",
      " 15%|█▌        | 3/20 [00:02<00:14,  1.21it/s]"
     ]
    },
    {
     "name": "stdout",
     "output_type": "stream",
     "text": [
      "Epoch 3/20 - Loss: 17732.3772\n"
     ]
    },
    {
     "name": "stderr",
     "output_type": "stream",
     "text": [
      "Batch 190189:   0%|          | 0/190 [00:00<?, ?it/s]\n",
      " 20%|██        | 4/20 [00:03<00:13,  1.21it/s]"
     ]
    },
    {
     "name": "stdout",
     "output_type": "stream",
     "text": [
      "Epoch 4/20 - Loss: 18988.9323\n"
     ]
    },
    {
     "name": "stderr",
     "output_type": "stream",
     "text": [
      "Batch 190189:   0%|          | 0/190 [00:00<?, ?it/s]\n",
      " 25%|██▌       | 5/20 [00:04<00:12,  1.21it/s]"
     ]
    },
    {
     "name": "stdout",
     "output_type": "stream",
     "text": [
      "Epoch 5/20 - Loss: 15092.2048\n"
     ]
    },
    {
     "name": "stderr",
     "output_type": "stream",
     "text": [
      "Batch 190189:   0%|          | 0/190 [00:00<?, ?it/s]\n",
      " 30%|███       | 6/20 [00:04<00:11,  1.20it/s]"
     ]
    },
    {
     "name": "stdout",
     "output_type": "stream",
     "text": [
      "Epoch 6/20 - Loss: 2513.6064\n"
     ]
    },
    {
     "name": "stderr",
     "output_type": "stream",
     "text": [
      "Batch 190189:   0%|          | 0/190 [00:00<?, ?it/s]\n",
      " 35%|███▌      | 7/20 [00:05<00:10,  1.20it/s]"
     ]
    },
    {
     "name": "stdout",
     "output_type": "stream",
     "text": [
      "Epoch 7/20 - Loss: 1773.0598\n"
     ]
    },
    {
     "name": "stderr",
     "output_type": "stream",
     "text": [
      "Batch 190189:   0%|          | 0/190 [00:00<?, ?it/s]\n",
      " 40%|████      | 8/20 [00:06<00:09,  1.21it/s]"
     ]
    },
    {
     "name": "stdout",
     "output_type": "stream",
     "text": [
      "Epoch 8/20 - Loss: 2488.5583\n"
     ]
    },
    {
     "name": "stderr",
     "output_type": "stream",
     "text": [
      "Batch 190189:   0%|          | 0/190 [00:00<?, ?it/s]\n",
      " 45%|████▌     | 9/20 [00:07<00:09,  1.16it/s]"
     ]
    },
    {
     "name": "stdout",
     "output_type": "stream",
     "text": [
      "Epoch 9/20 - Loss: 630.1238\n"
     ]
    },
    {
     "name": "stderr",
     "output_type": "stream",
     "text": [
      "Batch 190189:   0%|          | 0/190 [00:00<?, ?it/s]\n",
      " 50%|█████     | 10/20 [00:08<00:08,  1.14it/s]"
     ]
    },
    {
     "name": "stdout",
     "output_type": "stream",
     "text": [
      "Epoch 10/20 - Loss: 289.7612\n"
     ]
    },
    {
     "name": "stderr",
     "output_type": "stream",
     "text": [
      "Batch 190189:   0%|          | 0/190 [00:00<?, ?it/s]\n",
      " 55%|█████▌    | 11/20 [00:09<00:08,  1.10it/s]"
     ]
    },
    {
     "name": "stdout",
     "output_type": "stream",
     "text": [
      "Epoch 11/20 - Loss: 256.5485\n"
     ]
    },
    {
     "name": "stderr",
     "output_type": "stream",
     "text": [
      "Batch 190189:   0%|          | 0/190 [00:00<?, ?it/s]\n",
      " 60%|██████    | 12/20 [00:10<00:07,  1.10it/s]"
     ]
    },
    {
     "name": "stdout",
     "output_type": "stream",
     "text": [
      "Epoch 12/20 - Loss: 25.2098\n"
     ]
    },
    {
     "name": "stderr",
     "output_type": "stream",
     "text": [
      "Batch 190189:   0%|          | 0/190 [00:00<?, ?it/s]\n",
      " 65%|██████▌   | 13/20 [00:11<00:06,  1.11it/s]"
     ]
    },
    {
     "name": "stdout",
     "output_type": "stream",
     "text": [
      "Epoch 13/20 - Loss: 15.7714\n"
     ]
    },
    {
     "name": "stderr",
     "output_type": "stream",
     "text": [
      "Batch 190189:   0%|          | 0/190 [00:00<?, ?it/s]\n",
      " 70%|███████   | 14/20 [00:12<00:05,  1.13it/s]"
     ]
    },
    {
     "name": "stdout",
     "output_type": "stream",
     "text": [
      "Epoch 14/20 - Loss: 16.9325\n"
     ]
    },
    {
     "name": "stderr",
     "output_type": "stream",
     "text": [
      "Batch 190189:   0%|          | 0/190 [00:00<?, ?it/s]\n",
      " 75%|███████▌  | 15/20 [00:12<00:04,  1.13it/s]"
     ]
    },
    {
     "name": "stdout",
     "output_type": "stream",
     "text": [
      "Epoch 15/20 - Loss: 17.7039\n"
     ]
    },
    {
     "name": "stderr",
     "output_type": "stream",
     "text": [
      "Batch 190189:   0%|          | 0/190 [00:00<?, ?it/s]\n",
      " 80%|████████  | 16/20 [00:13<00:03,  1.15it/s]"
     ]
    },
    {
     "name": "stdout",
     "output_type": "stream",
     "text": [
      "Epoch 16/20 - Loss: 15.6924\n"
     ]
    },
    {
     "name": "stderr",
     "output_type": "stream",
     "text": [
      "Batch 190189:   0%|          | 0/190 [00:00<?, ?it/s]\n",
      " 85%|████████▌ | 17/20 [00:14<00:02,  1.13it/s]"
     ]
    },
    {
     "name": "stdout",
     "output_type": "stream",
     "text": [
      "Epoch 17/20 - Loss: 15.6735\n"
     ]
    },
    {
     "name": "stderr",
     "output_type": "stream",
     "text": [
      "Batch 190189:   0%|          | 0/190 [00:00<?, ?it/s]\n",
      " 90%|█████████ | 18/20 [00:15<00:01,  1.13it/s]"
     ]
    },
    {
     "name": "stdout",
     "output_type": "stream",
     "text": [
      "Epoch 18/20 - Loss: 13.2690\n"
     ]
    },
    {
     "name": "stderr",
     "output_type": "stream",
     "text": [
      "Batch 190189:   0%|          | 0/190 [00:00<?, ?it/s]\n",
      " 95%|█████████▌| 19/20 [00:16<00:00,  1.15it/s]"
     ]
    },
    {
     "name": "stdout",
     "output_type": "stream",
     "text": [
      "Epoch 19/20 - Loss: 11.8873\n"
     ]
    },
    {
     "name": "stderr",
     "output_type": "stream",
     "text": [
      "Batch 190189:   0%|          | 0/190 [00:00<?, ?it/s]\n",
      "100%|██████████| 20/20 [00:17<00:00,  1.15it/s]\n"
     ]
    },
    {
     "name": "stdout",
     "output_type": "stream",
     "text": [
      "Epoch 20/20 - Loss: 11.8602\n"
     ]
    }
   ],
   "source": [
    "from tqdm import tqdm\n",
    "\n",
    "#dataLoader for neighborhood sampling\n",
    "# train_mask = torch.zeros(data.num_nodes,dtype=torch.bool)\n",
    "# train_mask[:int(0.7*data.num_nodes)]= True\n",
    "# data.train_mask = train_mask\n",
    "\n",
    "\n",
    "model = GraphSAGE(in_channels=data.num_features, hidden_channels = 32, out_channels = OUT_DIM).to(device)\n",
    "train_loader = NeighborLoader(data=data, num_neighbors = [10,5], batch_size = 1000)\n",
    "# #define optimizer and loss function\n",
    "optimizer = Adam(model.parameters(), lr= 0.005, weight_decay = 5e-4)\n",
    "loss_fn = torch.nn.CrossEntropyLoss()\n",
    "\n",
    "def train(iterator):\n",
    "  model.train()\n",
    "  total_loss = 0\n",
    "    \n",
    "  iterator = tqdm(train_loader, )\n",
    "  for idx, batch in enumerate(train_loader):\n",
    "    optimizer.zero_grad()\n",
    "    out = model(batch.x, batch.edge_index)\n",
    "    # print(f\"Output Shape: {out.shape}, Label Shape: {batch.y.shape}\")\n",
    "\n",
    "    # if torch.isnan(out).any():\n",
    "    #     print(\"warning:NaN detected in output\")\n",
    "    #     return total_loss\n",
    "        \n",
    "    mask = batch.train_mask\n",
    "    loss = loss_fn(out[mask], batch.y[mask])\n",
    "      \n",
    "    loss.backward()\n",
    "    optimizer.step()\n",
    "    total_loss += loss.item()\n",
    "    iterator.set_description(f\"Batch {idx+1}{data.size()[0]//1000}\")\n",
    "  return total_loss \n",
    "\n",
    "iterator = tqdm(range(20), desc=\"\")\n",
    "for idx, epoch in enumerate(iterator):\n",
    "  loss = train(iterator)\n",
    "  print(f\"Epoch {idx+1}/{20} - Loss: {loss:.4f}\")"
   ]
  }
 ],
 "metadata": {
  "kernelspec": {
   "display_name": "smcs",
   "language": "python",
   "name": "python3"
  },
  "language_info": {
   "codemirror_mode": {
    "name": "ipython",
    "version": 3
   },
   "file_extension": ".py",
   "mimetype": "text/x-python",
   "name": "python",
   "nbconvert_exporter": "python",
   "pygments_lexer": "ipython3",
   "version": "3.12.9"
  }
 },
 "nbformat": 4,
 "nbformat_minor": 5
}
