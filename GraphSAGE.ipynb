{
 "cells": [
  {
   "cell_type": "code",
   "execution_count": 1,
   "id": "9a11ed51-d8c2-4d60-9a95-748e33b22dbb",
   "metadata": {},
   "outputs": [],
   "source": [
    "import pandas as pd\n",
    "import numpy as np\n",
    "import gc\n",
    "import torch\n",
    "import torch.nn.functional as F\n",
    "from torch_geometric.nn import SAGEConv\n",
    "from torch_geometric.data import Data\n",
    "from torch_geometric.loader import NeighborLoader\n",
    "from torch.optim import Adam\n",
    "import networkx as nx"
   ]
  },
  {
   "cell_type": "markdown",
   "id": "f9b426de-50f7-445b-9b28-fb192c0e2bbc",
   "metadata": {},
   "source": [
    "### GraphSAGE load"
   ]
  },
  {
   "cell_type": "code",
   "execution_count": 2,
   "id": "08d5c2a5-ecee-4893-953c-fc1d5763caff",
   "metadata": {},
   "outputs": [
    {
     "name": "stdout",
     "output_type": "stream",
     "text": [
      "Data(x=[203769, 166], edge_index=[2, 234355], y=[203769])\n"
     ]
    }
   ],
   "source": [
    "#load data\n",
    "classes = pd.read_csv('/Users/kostas/Documents/Data Science/p3/scientific/datasets/elliptic_bitcoin_dataset/elliptic_txs_classes.csv')\n",
    "features = pd.read_csv('/Users/kostas/Documents/Data Science/p3/scientific/datasets/elliptic_bitcoin_dataset/elliptic_txs_features.csv', header=None)\n",
    "edges = pd.read_csv('/Users/kostas/Documents/Data Science/p3/scientific/datasets/elliptic_bitcoin_dataset/elliptic_txs_edgelist.csv')\n",
    "\n",
    "#Convert classes to numerical format\n",
    "class_map = {\"unknown\": 2, \"licit\": 0, \"illicit\": 1}\n",
    "classes[\"class\"] = classes[\"class\"].map(class_map)\n",
    "\n",
    "#extract IDs, features and labels\n",
    "node_id = features[0].values\n",
    "x = torch.tensor(features.iloc[:, 1:].values, dtype=torch.float)\n",
    "y = torch.tensor(classes[\"class\"].values, dtype=torch.long)\n",
    "\n",
    "#edges to tensor\n",
    "edge_index = torch.tensor(edges.values.T, dtype=torch.long)\n",
    "\n",
    "#create data object\n",
    "data = Data(x=x, edge_index=edge_index, y=y)\n",
    "print(data)"
   ]
  },
  {
   "cell_type": "markdown",
   "id": "c982bdea-e14a-44d6-a6a0-e8620dddcd79",
   "metadata": {},
   "source": [
    "### DGraphFin load"
   ]
  },
  {
   "cell_type": "code",
   "execution_count": 10,
   "id": "2ddb95e8-c694-4b32-b2bc-d543671f3cf9",
   "metadata": {},
   "outputs": [
    {
     "name": "stdout",
     "output_type": "stream",
     "text": [
      "2.6.1\n"
     ]
    },
    {
     "name": "stderr",
     "output_type": "stream",
     "text": [
      "Processing...\n",
      "Done!\n"
     ]
    }
   ],
   "source": [
    "# #load data\n",
    "# data = np.load('/Users/kostas/Documents/Data Science/p3/scientific/datasets/DGraphFin/dgraphfin.npz')\n",
    "\n",
    "# x = torch.tensor(data['features'], dtype = torch.float)\n",
    "# y = torch.float(data['labels'], dtype=torch.long)\n",
    "# edge_idx =  torch.tensor(data['edges'].T, dtype=torch.long)\n",
    "\n",
    "# data = Data(x=x, edge_idx=edge_idx, y=y)\n",
    "import torch_geometric\n",
    "\n",
    "# check your torch_geometric version and make sure it is not lower than 2.2.0\n",
    "print(torch_geometric.__version__)\n",
    "\n",
    "\n",
    "# Please download DGraphFin dataset file 'DGraphFin.zip' on our website 'https://dgraph.xinye.com' and place it under directory './dataset/raw'\n",
    "# Otherwise an error would pop out \"Dataset not found. Please download 'DGraphFin.zip' from 'https://dgraph.xinye.com' and move it to './raw' \"\n",
    "from torch_geometric.datasets import DGraphFin\n",
    "\n",
    "dataset = DGraphFin(root='/Users/kostas/Documents/Data Science/p3/scientific/datasets')\n",
    "data = dataset[0]"
   ]
  },
  {
   "cell_type": "code",
   "execution_count": 12,
   "id": "40dcc4b5-288a-4827-b3fa-e643a99686a8",
   "metadata": {},
   "outputs": [
    {
     "ename": "SyntaxError",
     "evalue": "invalid syntax (977009493.py, line 1)",
     "output_type": "error",
     "traceback": [
      "\u001b[1;36m  Cell \u001b[1;32mIn[12], line 1\u001b[1;36m\u001b[0m\n\u001b[1;33m    python gnn.py --model sage --dataset DGraphFin --epochs 200 --runs 10 --device 0\u001b[0m\n\u001b[1;37m           ^\u001b[0m\n\u001b[1;31mSyntaxError\u001b[0m\u001b[1;31m:\u001b[0m invalid syntax\n"
     ]
    }
   ],
   "source": [
    "python gnn.py --model sage --dataset DGraphFin --epochs 200 --runs 10 --device 0"
   ]
  },
  {
   "cell_type": "code",
   "execution_count": null,
   "id": "4fd2a4af-8435-4301-ad5a-51ad3c21fa32",
   "metadata": {},
   "outputs": [],
   "source": [
    "class GraphSAGE(torch.nn.Module):\n",
    "  def __init__(self, in_channels, hidden_channels, out_channels):\n",
    "    super(GraphSAGE, self).__init__()\n",
    "    self.conv1 = SAGEConv(in_channels, hidden_channels)\n",
    "    self.conv2 = SAGEConv(hidden_channels, out_channels)\n",
    "\n",
    "  def forward(self, x, edge_index):\n",
    "    x = self.conv1(x, edge_index)\n",
    "    x = F.relu(x)\n",
    "    x = self.conv2(x, edge_index)\n",
    "    return F.log_softmax(x, dim=1)\n",
    "model = GraphSAGE(in_channels=data.num_features, hidden_channels = 32, out_channels = 2)"
   ]
  },
  {
   "cell_type": "code",
   "execution_count": null,
   "id": "312a3f1c-87b8-4ccf-bd23-18c21c54d53b",
   "metadata": {},
   "outputs": [],
   "source": [
    "gc.collect()"
   ]
  },
  {
   "cell_type": "code",
   "execution_count": null,
   "id": "5865eea0-9ab4-4e0b-93d5-9ba1024c27a3",
   "metadata": {},
   "outputs": [],
   "source": [
    "import psutil\n",
    "print(f\"Available RAM: {psutil.virtual_memory().available / 1e9} GB\")"
   ]
  },
  {
   "cell_type": "markdown",
   "id": "298ffd87-5d2b-4b50-a33b-68d4aceac1c5",
   "metadata": {},
   "source": [
    "### Setup GraphSAGE for Elliptic"
   ]
  },
  {
   "cell_type": "code",
   "execution_count": null,
   "id": "6f59218e-b488-429c-8979-aff698169591",
   "metadata": {},
   "outputs": [],
   "source": [
    "#dataLoader for neighborhood sampling\n",
    "train_loader = NeighborLoader(data.to('cpu'), num_neighbors = [10,5], batch_size =8, shuffle = True, num_workers=0, pin_memory = False)\n",
    "\n",
    "#define optimizer and loss function\n",
    "optimizer = Adam(model.parameters(), lr= 0.01, weight_decay = 5e-4)\n",
    "loss_fn = torch.nn.CrossEntropyLoss()\n",
    "\n",
    "def train():\n",
    "  model.train()\n",
    "  total_loss = 0\n",
    "    \n",
    "  for batch in train_loader:\n",
    "    optimizer.zero_grad()\n",
    "    out = model(batch.x, batch.edge_index)\n",
    "    print(f\"Output Shape: {out.shape}, Label Shape: {batch.y.shape}\")\n",
    "\n",
    "    if torch.isnan(out).any():\n",
    "        print(\"warning:NaN detected in output\")\n",
    "        return total_loss\n",
    "    mask = batch.y != 2\n",
    "    loss = loss_fn(out[mask], batch.y[mask])\n",
    "      \n",
    "    loss.backward()\n",
    "    optimizer.step()\n",
    "    total_loss += loss.item()\n",
    "  return total_loss / len(train_loader)\n",
    "\n",
    "for epoch in range(20):\n",
    "  loss = train()\n",
    "  print(f\"epoch {epoch+1}, loss: {loss:.4f}\")"
   ]
  },
  {
   "cell_type": "markdown",
   "id": "780ef822-89de-40e6-96a9-144cde25efc3",
   "metadata": {},
   "source": [
    "### Setup GraphSAGE for DGraphFin"
   ]
  },
  {
   "cell_type": "code",
   "execution_count": null,
   "id": "910d3fae-0bdf-40c5-bc10-e5dec798777e",
   "metadata": {},
   "outputs": [],
   "source": [
    "train_loader = NeighborLoader(graph_data, num_neighbors=[10,5],batch_size=8,shuffle=True,num_workers=0,pin_memory=False)"
   ]
  },
  {
   "cell_type": "code",
   "execution_count": null,
   "id": "b3e371b9-8b23-439c-9cf0-1aba721ce234",
   "metadata": {},
   "outputs": [],
   "source": [
    "#evaluation\n",
    "from sklearn.metrics import f1_score\n",
    "model.eval()\n",
    "out = model(data.x, data.edge_index)\n",
    "pred = out.argmax(dim=1)\n",
    "\n",
    "f1 = f1_score(data.y.cpu().numpy(), pred.cpu().numpy(), average =\"macro\")\n",
    "print(f\"f1 score:{f1:.4f}\")"
   ]
  }
 ],
 "metadata": {
  "kernelspec": {
   "display_name": "Python 3 (ipykernel)",
   "language": "python",
   "name": "python3"
  },
  "language_info": {
   "codemirror_mode": {
    "name": "ipython",
    "version": 3
   },
   "file_extension": ".py",
   "mimetype": "text/x-python",
   "name": "python",
   "nbconvert_exporter": "python",
   "pygments_lexer": "ipython3",
   "version": "3.12.9"
  }
 },
 "nbformat": 4,
 "nbformat_minor": 5
}
