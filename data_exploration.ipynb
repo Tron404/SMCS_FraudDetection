{
 "cells": [
  {
   "cell_type": "code",
   "execution_count": 1,
   "metadata": {},
   "outputs": [],
   "source": [
    "from data_processing import *\n",
    "\n",
    "### @TODO: TRY TX-TX AS WELL\n",
    "\n",
    "# DEVICE = torch.device(\"cuda:0\" if torch.cuda.is_available() else \"cpu\")\n",
    "DEVICE = torch.device(\"cpu\")\n",
    "train_data, OUT_DIM = load_create_ellipticpp(timestep=(1,32))\n",
    "train_data = train_data.to(DEVICE)\n",
    "test_data, OUT_DIM = load_create_ellipticpp(timestep=(33,37))\n",
    "test_data = test_data.to(DEVICE)\n",
    "valid_data, OUT_DIM = load_create_ellipticpp(timestep=(38,42))\n",
    "valid_data = test_data.to(DEVICE)\n",
    "# loader = split_into_batches(data, num_batches=batch_size, num_hops=2, num_neighbours=100)\n",
    "# num_features = next(iter(loader)).x.shape[-1]\n",
    "# data"
   ]
  },
  {
   "cell_type": "code",
   "execution_count": 67,
   "metadata": {},
   "outputs": [
    {
     "data": {
      "text/plain": [
       "Data(x=[808175, 55], y=[808175], edge_index=[2, 1628191])"
      ]
     },
     "execution_count": 67,
     "metadata": {},
     "output_type": "execute_result"
    }
   ],
   "source": [
    "train_data\n",
    "\n",
    "### degree of 1 and 0\n",
    "# consider quartiles for cutoff to select sizes"
   ]
  },
  {
   "cell_type": "code",
   "execution_count": 97,
   "metadata": {},
   "outputs": [],
   "source": [
    "def select_subset(data: Data, binary_masking: bool=True, label_to_choose: int=None):\n",
    "    if binary_masking:\n",
    "        mask = torch.where((data.y == 1) | (data.y == 0))[0]\n",
    "    elif label_to_choose:\n",
    "        mask = torch.where(data.y == label_to_choose)[0]\n",
    "    else:\n",
    "        raise ValueError\n",
    "    \n",
    "    node_index = data.edge_index[torch.isin(data.edge_index, mask)]\n",
    "    edge_index = data.edge_index[:,node_index]\n",
    "    node_map = {old_idx.item(): new_idx for new_idx, old_idx in enumerate(edge_index.unique())}\n",
    "    edge_index[0] = torch.as_tensor([node_map[old_idx.item()] for old_idx in edge_index[0]])\n",
    "    edge_index[1] = torch.as_tensor([node_map[old_idx.item()] for old_idx in edge_index[1]])\n",
    "\n",
    "    return Data(x=data.x[node_index,:], y=data.y[node_index], edge_index=edge_index)\n",
    "\n",
    "t_a = select_subset(train_data, binary_masking=True)"
   ]
  },
  {
   "cell_type": "code",
   "execution_count": 11,
   "metadata": {},
   "outputs": [],
   "source": [
    "mask = torch.where((train_data.y == 1) | (train_data.y == 0))[0]\n",
    "t = train_data.edge_index[torch.isin(train_data.edge_index, mask)]\n",
    "t = train_data.edge_index[:,t]\n",
    "node_map = {old_idx.item(): new_idx for new_idx, old_idx in enumerate(t.unique())}\n",
    "t[0] = torch.as_tensor([node_map[old_idx.item()] for old_idx in t[0]])\n",
    "t[1] = torch.as_tensor([node_map[old_idx.item()] for old_idx in t[1]])"
   ]
  },
  {
   "cell_type": "code",
   "execution_count": 9,
   "metadata": {},
   "outputs": [
    {
     "data": {
      "text/plain": [
       "torch.Size([2, 853444])"
      ]
     },
     "execution_count": 9,
     "metadata": {},
     "output_type": "execute_result"
    }
   ],
   "source": [
    "t.shape"
   ]
  },
  {
   "cell_type": "code",
   "execution_count": 12,
   "metadata": {},
   "outputs": [
    {
     "name": "stdout",
     "output_type": "stream",
     "text": [
      "Outgoing degree: Mean=10.668; Median=0.000\n",
      "Incoming degree: Mean=10.668; Median=2.000\n",
      "------\n",
      "Outgoing degree: Mean=2.934; Median=0.000\n",
      "Incoming degree: Mean=2.934; Median=1.000\n",
      "------\n",
      "Outgoing degree: Mean=2.934; Median=0.000\n",
      "Incoming degree: Mean=2.934; Median=1.000\n"
     ]
    }
   ],
   "source": [
    "from torch_geometric.utils import degree\n",
    "\n",
    "out_degree = degree(t[0], t.max()+1) # outgoing degree\n",
    "in_degree = degree(t[1], t.max()+1) # incoming degree\n",
    "print(f\"Outgoing degree: Mean={out_degree.mean():0.3f}; Median={out_degree.median():0.3f}\")\n",
    "print(f\"Incoming degree: Mean={in_degree.mean():0.3f}; Median={in_degree.median():0.3f}\")\n",
    "print(\"------\")\n",
    "\n",
    "out_degree = degree(test_data.edge_index[0], test_data.num_nodes) # outgoing degree\n",
    "in_degree = degree(test_data.edge_index[1], test_data.num_nodes) # incoming degree\n",
    "print(f\"Outgoing degree: Mean={out_degree.mean():0.3f}; Median={out_degree.median():0.3f}\")\n",
    "print(f\"Incoming degree: Mean={in_degree.mean():0.3f}; Median={in_degree.median():0.3f}\")\n",
    "print(\"------\")\n",
    "\n",
    "out_degree = degree(valid_data.edge_index[0], valid_data.num_nodes) # outgoing degree\n",
    "in_degree = degree(valid_data.edge_index[1], valid_data.num_nodes) # incoming degree\n",
    "print(f\"Outgoing degree: Mean={out_degree.mean():0.3f}; Median={out_degree.median():0.3f}\")\n",
    "print(f\"Incoming degree: Mean={in_degree.mean():0.3f}; Median={in_degree.median():0.3f}\")"
   ]
  },
  {
   "cell_type": "code",
   "execution_count": null,
   "metadata": {},
   "outputs": [
    {
     "data": {
      "text/plain": [
       "<Axes: ylabel='Count'>"
      ]
     },
     "execution_count": 11,
     "metadata": {},
     "output_type": "execute_result"
    },
    {
     "data": {
      "image/png": "[encoded data removed]",
      "text/plain": [
       "<Figure size 640x480 with 1 Axes>"
      ]
     },
     "metadata": {},
     "output_type": "display_data"
    }
   ],
   "source": [
    "# import matplotlib.pyplot as plt\n",
    "# import seaborn as sns\n",
    "\n",
    "# sns.histplot(x=)"
   ]
  }
 ],
 "metadata": {
  "kernelspec": {
   "display_name": "smcs",
   "language": "python",
   "name": "python3"
  },
  "language_info": {
   "codemirror_mode": {
    "name": "ipython",
    "version": 3
   },
   "file_extension": ".py",
   "mimetype": "text/x-python",
   "name": "python",
   "nbconvert_exporter": "python",
   "pygments_lexer": "ipython3",
   "version": "3.12.9"
  }
 },
 "nbformat": 4,
 "nbformat_minor": 2
}
