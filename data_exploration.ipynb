{
 "cells": [
  {
   "cell_type": "code",
   "execution_count": 1,
   "metadata": {},
   "outputs": [],
   "source": [
    "from data_processing import *\n",
    "\n",
    "### @TODO: TRY TX-TX AS WELL\n",
    "\n",
    "# DEVICE = torch.device(\"cuda:0\" if torch.cuda.is_available() else \"cpu\")\n",
    "DEVICE = torch.device(\"cpu\")\n",
    "train_data, _, OUT_DIM = load_create_ellipticpp(load_test_data=False)"
   ]
  },
  {
   "cell_type": "code",
   "execution_count": 2,
   "metadata": {},
   "outputs": [
    {
     "data": {
      "text/plain": [
       "Data(x=[808175, 55], y=[808175], edge_index=[2, 1628191])"
      ]
     },
     "execution_count": 2,
     "metadata": {},
     "output_type": "execute_result"
    }
   ],
   "source": [
    "train_data\n",
    "\n",
    "### degree of 1 and 0\n",
    "# consider quartiles for cutoff to select sizes"
   ]
  },
  {
   "cell_type": "code",
   "execution_count": 3,
   "metadata": {},
   "outputs": [],
   "source": [
    "def select_subset(data: Data, binary_masking: bool=True, label_to_choose: int=None):\n",
    "    if binary_masking:\n",
    "        mask = torch.where((data.y == 1) | (data.y == 0))[0]\n",
    "    elif label_to_choose:\n",
    "        mask = torch.where(data.y == label_to_choose)[0]\n",
    "    else:\n",
    "        raise ValueError\n",
    "    \n",
    "    node_index = data.edge_index[torch.isin(data.edge_index, mask)]\n",
    "    edge_index = data.edge_index[:,node_index]\n",
    "    node_map = {old_idx.item(): new_idx for new_idx, old_idx in enumerate(edge_index.unique())}\n",
    "    edge_index[0] = torch.as_tensor([node_map[old_idx.item()] for old_idx in edge_index[0]])\n",
    "    edge_index[1] = torch.as_tensor([node_map[old_idx.item()] for old_idx in edge_index[1]])\n",
    "\n",
    "    new_data = Data(x=data.x[list(node_map.keys()),:], y=data.y[list(node_map.keys())], edge_index=edge_index)\n",
    "\n",
    "    return new_data\n",
    "\n",
    "train_subset = select_subset(train_data, binary_masking=True)"
   ]
  },
  {
   "cell_type": "code",
   "execution_count": 4,
   "metadata": {},
   "outputs": [
    {
     "name": "stdout",
     "output_type": "stream",
     "text": [
      "Outgoing degree: Mean=10.668; Median=0.000\n",
      "Incoming degree: Mean=10.668; Median=2.000\n"
     ]
    }
   ],
   "source": [
    "from torch_geometric.utils import degree\n",
    "\n",
    "out_degree = degree(train_subset.edge_index[0], train_subset.num_nodes) # outgoing degree\n",
    "in_degree = degree(train_subset.edge_index[1], train_subset.num_nodes) # incoming degree\n",
    "print(f\"Outgoing degree: Mean={out_degree.mean():0.3f}; Median={out_degree.median():0.3f}\")\n",
    "print(f\"Incoming degree: Mean={in_degree.mean():0.3f}; Median={in_degree.median():0.3f}\")"
   ]
  },
  {
   "cell_type": "code",
   "execution_count": 63,
   "metadata": {},
   "outputs": [],
   "source": [
    "from collections import Counter\n",
    "\n",
    "num_deg = Counter(out_degree.to(int).tolist())\n",
    "num_deg = {deg: count for deg, count in num_deg.items() if count > 1}\n",
    "num_deg = dict(sorted(num_deg.items(), key=lambda x: x[1], reverse=True))\n",
    "ordered_deg = out_degree.to(int).unique().sort(descending=True)[0]"
   ]
  },
  {
   "cell_type": "code",
   "execution_count": 64,
   "metadata": {},
   "outputs": [
    {
     "data": {
      "text/plain": [
       "{0: 45482,\n",
       " 1: 7379,\n",
       " 2: 6238,\n",
       " 3: 4958,\n",
       " 4: 3035,\n",
       " 5: 2079,\n",
       " 6: 1564,\n",
       " 7: 1276,\n",
       " 8: 1065,\n",
       " 9: 1056,\n",
       " 10: 981,\n",
       " 11: 742,\n",
       " 12: 679,\n",
       " 13: 573,\n",
       " 17: 522,\n",
       " 15: 517,\n",
       " 14: 509,\n",
       " 16: 478,\n",
       " 18: 409,\n",
       " 19: 373,\n",
       " 21: 366,\n",
       " 20: 355,\n",
       " 22: 293,\n",
       " 24: 272,\n",
       " 25: 262,\n",
       " 23: 252,\n",
       " 27: 235,\n",
       " 26: 223,\n",
       " 28: 206,\n",
       " 29: 180,\n",
       " 30: 174,\n",
       " 31: 174,\n",
       " 32: 164,\n",
       " 33: 164,\n",
       " 35: 159,\n",
       " 39: 157,\n",
       " 34: 149,\n",
       " 36: 148,\n",
       " 40: 147,\n",
       " 41: 140,\n",
       " 37: 140,\n",
       " 38: 140,\n",
       " 42: 131,\n",
       " 43: 121,\n",
       " 44: 119,\n",
       " 46: 109,\n",
       " 45: 107,\n",
       " 50: 95,\n",
       " 47: 91,\n",
       " 48: 84,\n",
       " 51: 76,\n",
       " 49: 72,\n",
       " 52: 71,\n",
       " 55: 66,\n",
       " 62: 63,\n",
       " 56: 62,\n",
       " 54: 59,\n",
       " 57: 59,\n",
       " 53: 54,\n",
       " 61: 49,\n",
       " 58: 47,\n",
       " 59: 47,\n",
       " 69: 44,\n",
       " 67: 42,\n",
       " 60: 40,\n",
       " 63: 40,\n",
       " 65: 39,\n",
       " 64: 39,\n",
       " 70: 39,\n",
       " 71: 39,\n",
       " 72: 37,\n",
       " 68: 36,\n",
       " 66: 31,\n",
       " 77: 29,\n",
       " 73: 28,\n",
       " 76: 27,\n",
       " 79: 27,\n",
       " 75: 26,\n",
       " 86: 25,\n",
       " 84: 22,\n",
       " 78: 22,\n",
       " 74: 21,\n",
       " 85: 20,\n",
       " 81: 18,\n",
       " 83: 18,\n",
       " 82: 17,\n",
       " 106: 15,\n",
       " 104: 15,\n",
       " 96: 14,\n",
       " 98: 14,\n",
       " 97: 14,\n",
       " 80: 14,\n",
       " 87: 13,\n",
       " 93: 12,\n",
       " 94: 12,\n",
       " 88: 12,\n",
       " 95: 12,\n",
       " 251: 12,\n",
       " 501: 11,\n",
       " 90: 11,\n",
       " 99: 11,\n",
       " 103: 11,\n",
       " 112: 10,\n",
       " 102: 10,\n",
       " 105: 10,\n",
       " 91: 10,\n",
       " 89: 9,\n",
       " 92: 9,\n",
       " 109: 8,\n",
       " 108: 8,\n",
       " 114: 8,\n",
       " 118: 8,\n",
       " 101: 8,\n",
       " 249: 7,\n",
       " 120: 7,\n",
       " 135: 7,\n",
       " 110: 7,\n",
       " 129: 7,\n",
       " 125: 6,\n",
       " 128: 6,\n",
       " 145: 6,\n",
       " 141: 6,\n",
       " 500: 6,\n",
       " 115: 6,\n",
       " 107: 6,\n",
       " 111: 6,\n",
       " 252: 5,\n",
       " 140: 5,\n",
       " 139: 5,\n",
       " 124: 5,\n",
       " 113: 5,\n",
       " 119: 5,\n",
       " 136: 5,\n",
       " 122: 5,\n",
       " 100: 5,\n",
       " 524: 5,\n",
       " 506: 4,\n",
       " 509: 4,\n",
       " 155: 4,\n",
       " 160: 4,\n",
       " 161: 4,\n",
       " 134: 4,\n",
       " 133: 4,\n",
       " 520: 4,\n",
       " 163: 4,\n",
       " 502: 4,\n",
       " 254: 4,\n",
       " 225: 4,\n",
       " 512: 4,\n",
       " 165: 4,\n",
       " 154: 4,\n",
       " 250: 4,\n",
       " 149: 3,\n",
       " 137: 3,\n",
       " 147: 3,\n",
       " 123: 3,\n",
       " 189: 3,\n",
       " 215: 3,\n",
       " 206: 3,\n",
       " 343: 3,\n",
       " 198: 3,\n",
       " 604: 3,\n",
       " 256: 3,\n",
       " 302: 3,\n",
       " 126: 3,\n",
       " 253: 3,\n",
       " 146: 3,\n",
       " 175: 3,\n",
       " 166: 3,\n",
       " 307: 3,\n",
       " 319: 3,\n",
       " 142: 3,\n",
       " 131: 3,\n",
       " 301: 3,\n",
       " 191: 3,\n",
       " 121: 3,\n",
       " 503: 3,\n",
       " 116: 3,\n",
       " 220: 3,\n",
       " 771: 2,\n",
       " 551: 2,\n",
       " 310: 2,\n",
       " 358: 2,\n",
       " 282: 2,\n",
       " 469: 2,\n",
       " 222: 2,\n",
       " 304: 2,\n",
       " 156: 2,\n",
       " 138: 2,\n",
       " 266: 2,\n",
       " 278: 2,\n",
       " 510: 2,\n",
       " 246: 2,\n",
       " 150: 2,\n",
       " 237: 2,\n",
       " 562: 2,\n",
       " 571: 2,\n",
       " 277: 2,\n",
       " 162: 2,\n",
       " 185: 2,\n",
       " 263: 2,\n",
       " 259: 2,\n",
       " 579: 2,\n",
       " 565: 2,\n",
       " 578: 2,\n",
       " 606: 2,\n",
       " 179: 2,\n",
       " 171: 2,\n",
       " 159: 2,\n",
       " 318: 2,\n",
       " 1006: 2,\n",
       " 529: 2,\n",
       " 329: 2,\n",
       " 210: 2,\n",
       " 144: 2,\n",
       " 173: 2,\n",
       " 170: 2,\n",
       " 388: 2,\n",
       " 272: 2,\n",
       " 566: 2,\n",
       " 367: 2,\n",
       " 241: 2,\n",
       " 132: 2,\n",
       " 586: 2,\n",
       " 741: 2,\n",
       " 261: 2,\n",
       " 269: 2,\n",
       " 260: 2,\n",
       " 482: 2,\n",
       " 1002: 2,\n",
       " 236: 2,\n",
       " 271: 2,\n",
       " 581: 2,\n",
       " 286: 2,\n",
       " 516: 2,\n",
       " 192: 2,\n",
       " 433: 2,\n",
       " 127: 2,\n",
       " 431: 2,\n",
       " 508: 2,\n",
       " 174: 2,\n",
       " 511: 2,\n",
       " 130: 2,\n",
       " 117: 2,\n",
       " 214: 2,\n",
       " 292: 2,\n",
       " 603: 2,\n",
       " 275: 2,\n",
       " 239: 2,\n",
       " 157: 2,\n",
       " 489: 2,\n",
       " 519: 2,\n",
       " 1055: 2,\n",
       " 1253: 2,\n",
       " 485: 2,\n",
       " 280: 2,\n",
       " 313: 2,\n",
       " 620: 2,\n",
       " 650: 2,\n",
       " 432: 2,\n",
       " 243: 2,\n",
       " 143: 2,\n",
       " 208: 2}"
      ]
     },
     "execution_count": 64,
     "metadata": {},
     "output_type": "execute_result"
    }
   ],
   "source": [
    "num_deg"
   ]
  },
  {
   "cell_type": "code",
   "execution_count": 65,
   "metadata": {},
   "outputs": [
    {
     "data": {
      "text/plain": [
       "array([    2,     2,     5,    39, 45482])"
      ]
     },
     "execution_count": 65,
     "metadata": {},
     "output_type": "execute_result"
    }
   ],
   "source": [
    "import numpy as np\n",
    "\n",
    "np.quantile(list(num_deg.values()), q=[0,0.25,0.5,0.75,1]).astype(int)"
   ]
  },
  {
   "cell_type": "code",
   "execution_count": 53,
   "metadata": {},
   "outputs": [
    {
     "data": {
      "text/plain": [
       "<Axes: >"
      ]
     },
     "execution_count": 53,
     "metadata": {},
     "output_type": "execute_result"
    },
    {
     "data": {
      "image/png": "[encoded data removed]",
      "text/plain": [
       "<Figure size 640x480 with 1 Axes>"
      ]
     },
     "metadata": {},
     "output_type": "display_data"
    }
   ],
   "source": [
    "import seaborn as sns\n",
    "import matplotlib.pyplot as plt\n",
    "\n",
    "sns.violinplot(list(num_deg.values()), fill=False, inner=\"quart\")"
   ]
  },
  {
   "cell_type": "code",
   "execution_count": 3,
   "metadata": {},
   "outputs": [
    {
     "data": {
      "text/plain": [
       "[1]"
      ]
     },
     "execution_count": 3,
     "metadata": {},
     "output_type": "execute_result"
    }
   ],
   "source": [
    "[1,2,3][:-3+1]"
   ]
  },
  {
   "cell_type": "code",
   "execution_count": null,
   "metadata": {},
   "outputs": [
    {
     "data": {
      "text/plain": [
       "<Axes: ylabel='Count'>"
      ]
     },
     "execution_count": 11,
     "metadata": {},
     "output_type": "execute_result"
    },
    {
     "data": {
      "image/png": "[encoded data removed]",
      "text/plain": [
       "<Figure size 640x480 with 1 Axes>"
      ]
     },
     "metadata": {},
     "output_type": "display_data"
    }
   ],
   "source": [
    "# import matplotlib.pyplot as plt\n",
    "# import seaborn as sns\n",
    "\n",
    "# sns.histplot(x=)"
   ]
  },
  {
   "cell_type": "code",
   "execution_count": 2,
   "metadata": {},
   "outputs": [],
   "source": [
    "import pandas as pd\n",
    "import os\n",
    "\n",
    "NUM_CLASSES = 2\n",
    "addr2addr = os.path.join(\".\", \"Elliptic++Dataset/AddrAddr_edgelist.csv\")\n",
    "wallets_features_classes = os.path.join(\".\", \"Elliptic++Dataset/wallets_features_classes_combined.csv\")\n",
    "\n",
    "addr2addr_df = pd.read_csv(addr2addr)\n",
    "wallets_features_classes_df = pd.read_csv(wallets_features_classes)\n",
    "wallets_features_classes_df[\"class\"] = wallets_features_classes_df[\"class\"].replace([1,2,3],[1,0,2])\n",
    "wallets_features_classes_df = wallets_features_classes_df[wallets_features_classes_df[\"class\"] != 2] # !!! RAMON TALKED ABOUT THIS, ALSO AUTHORS DO THIS FOR WALLET CLASSIFICATION\n",
    "    "
   ]
  },
  {
   "cell_type": "code",
   "execution_count": 33,
   "metadata": {},
   "outputs": [],
   "source": [
    "from collections import defaultdict\n",
    "\n",
    "time_steps = wallets_features_classes_df[\"Time step\"].unique()\n",
    "time_steps.sort()\n",
    "\n",
    "positive_labels = []\n",
    "negative_labels = []\n",
    "data = defaultdict(list)\n",
    "for time_step in time_steps:\n",
    "    data[\"timestep\"] += [time_step] * 2\n",
    "    data[\"label\"] += [1]\n",
    "    data[\"value\"] += [wallets_features_classes_df[wallets_features_classes_df[\"Time step\"] == time_step][\"class\"].value_counts().to_dict()[1]]\n",
    "    data[\"label\"] += [0]\n",
    "    data[\"value\"] += [wallets_features_classes_df[wallets_features_classes_df[\"Time step\"] == time_step][\"class\"].value_counts().to_dict()[0]]\n",
    "\n",
    "df = pd.DataFrame(data)"
   ]
  },
  {
   "cell_type": "code",
   "execution_count": 86,
   "metadata": {},
   "outputs": [
    {
     "data": {
      "image/png": "[encoded data removed]",
      "text/plain": [
       "<Figure size 1600x600 with 1 Axes>"
      ]
     },
     "metadata": {},
     "output_type": "display_data"
    }
   ],
   "source": [
    "import seaborn as sns\n",
    "import matplotlib.pyplot as plt\n",
    "\n",
    "sns.set_theme(style=\"whitegrid\")\n",
    "plt.figure(figsize=(16,6))\n",
    "\n",
    "total_labels = df.groupby(\"timestep\")[\"value\"].sum().reset_index()\n",
    "procent_positive = df[df[\"label\"] == 1].reset_index()\n",
    "procent_positive[\"value\"] = [total_positive/total_labels * 100 for total_positive, total_labels in zip(procent_positive[\"value\"], total_labels[\"value\"])]\n",
    "procent_negative = df[df[\"label\"] == 0].reset_index()\n",
    "procent_negative[\"value\"] = [total_negative/total_labels * 100 for total_negative, total_labels in zip(total_labels[\"value\"], total_labels[\"value\"])]\n",
    "\n",
    "sns.barplot(x=\"timestep\", y=\"value\", data=procent_negative, label=\"Licit\")\n",
    "sns.barplot(x=\"timestep\", y=\"value\", data=procent_positive, label=\"Illicit\")\n",
    "plt.ylabel(\"Percent Illicit Labels\", fontsize=20)\n",
    "plt.xlabel(\"Time Step\", fontsize=20)\n",
    "plt.tick_params(labelsize=12)\n",
    "plt.legend(frameon=False, loc=\"upper center\", ncol=2, bbox_to_anchor=(0.5,1.05), fontsize=15)\n",
    "sns.despine()\n",
    "\n",
    "plt.show()"
   ]
  }
 ],
 "metadata": {
  "kernelspec": {
   "display_name": "smcs",
   "language": "python",
   "name": "python3"
  },
  "language_info": {
   "codemirror_mode": {
    "name": "ipython",
    "version": 3
   },
   "file_extension": ".py",
   "mimetype": "text/x-python",
   "name": "python",
   "nbconvert_exporter": "python",
   "pygments_lexer": "ipython3",
   "version": "3.12.9"
  }
 },
 "nbformat": 4,
 "nbformat_minor": 2
}
